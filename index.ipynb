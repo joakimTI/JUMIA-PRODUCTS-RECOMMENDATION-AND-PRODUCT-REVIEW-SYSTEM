{
 "cells": [
  {
   "cell_type": "markdown",
   "metadata": {},
   "source": [
    "## JUMIA-PRODUCTS-RECOMMENDATION-AND-PRODUCT-REVIEW-SYSTEM\n",
    "\n",
    "### Overview\n",
    "\n",
    "The growth of e-commerce in Kenya has been exponential, with platforms like Jumia attracting large numbers of users. However, users frequently encounter challenges in locating relevant products due to expansive and sometimes disorganized product catalogs. Moreover, the limited use of recommendations and unreliable review systems further complicate the shopping experience, leading to reduced user satisfaction and lower conversion rates. To address these issues, we propose a recommendation and sentiment analysis system that leverages interaction history and user feedback. This system aims to provide more relevant recommendations and insights from customer sentiments, enabling Jumia to better serve its users and enhance its retail offerings.\n",
    "\n",
    "### Problem Statement\n",
    "\n",
    "The problem of finding relevant products on Jumia’s extensive catalog significantly affects customer satisfaction and conversion rates. Current limitations include:  \n",
    "\n",
    "* Inadequate product recommendations based on user behavior, which leads to a lack of personalization.\n",
    "* An unreliable rating and review system, leaving customers with limited insights into product quality.\n",
    "* Limited retailer insights into customer sentiment, hindering their ability to refine offerings and optimize marketing strategies.\n",
    "  \n",
    "These issues reduce user satisfaction, decrease sales, and limit the potential for enhanced customer-retailer relationships on Jumia.\n",
    "\n",
    "### Stakeholders\n",
    "\n",
    "**Primary Users (Consumers)**: Customers who frequently shop on Jumia and need relevant recommendations to streamline their product search and improve purchase decisions.\n",
    "\n",
    "**Retailers/Sellers**: Businesses and individual sellers on Jumia who seek insights into customer preferences and sentiment to better tailor their product offerings and marketing strategies.\n",
    "\n",
    "**Jumia Management**: The platform administrators who aim to improve customer satisfaction, engagement, and conversion rates through improved site functionality.\n",
    "\n",
    "### Objectives\n",
    "\n",
    "* *Develop a Recommendation System*:\n",
    "\n",
    "Create an intelligent recommendation engine that uses customer interaction history, preferences, and similar behavior patterns to provide relevant product recommendations.\n",
    "\n",
    "* *Implement Sentiment Analysis*:\n",
    "\n",
    "Extract sentiments from customer reviews to offer meaningful feedback, categorizing it as positive, negative, or neutral. This feedback will help refine recommendations and improve customer trust in the platform.\n",
    "\n",
    "* *Enhance User Experience*:\n",
    "\n",
    "Improve customer satisfaction by reducing the time and effort needed to find relevant products, potentially increasing conversion rates.\n",
    "\n",
    "* *Provide Insightful Retailer Analytics*:\n",
    "\n",
    "Equip sellers with sentiment analysis reports and recommendation patterns to refine product and marketing offerings based on customer preferences.\n",
    "\n",
    "* *Support Kenyan E-commerce Growth*:\n",
    "\n",
    "Contribute to the development of the e-commerce sector in Kenya by addressing key pain points in product discoverability and review reliability on Jumia.\n",
    "\n",
    "### Expected Benefits\n",
    "\n",
    "* **For Customers**: More personalized recommendations, improved trust through reliable sentiment analysis, and an overall enhanced shopping experience.\n",
    "\n",
    "* **For Retailers**: Access to better customer insights and sentiment data, allowing them to optimize product listings, improve customer engagement, and refine marketing strategies.\n",
    "\n",
    "* **For Jumia**: Increased user satisfaction and conversion rates, resulting in stronger brand loyalty and a more competitive edge in the Kenyan e-commerce market.\n",
    "\n",
    "### Data Understanding\n",
    "\n",
    "We scraped data from [jumia](https://www.jumia.co.ke/) which is an online shop with more than 15 categories of products but decided to only have 15 categories\n",
    "\n",
    "### Exploratory Data Ananlysis\n",
    "\n",
    "Importing relevant libraries"
   ]
  },
  {
   "cell_type": "code",
   "execution_count": 2,
   "metadata": {},
   "outputs": [],
   "source": [
    "#import files\n",
    "import pandas as pd\n",
    "import numpy as np\n",
    "import matplotlib.pyplot as plt\n",
    "import seaborn as sns\n",
    "from sklearn.model_selection import train_test_split,cross_val_score, GridSearchCV\n",
    "from imblearn.over_sampling import SMOTE \n",
    "from scipy import stats as stats\n",
    "from imblearn.pipeline import Pipeline as imbpipe\n",
    "from sklearn.metrics import accuracy_score,f1_score,recall_score,precision_score,\\\n",
    "roc_curve,roc_auc_score,classification_report, auc, ConfusionMatrixDisplay\n",
    "from sklearn.preprocessing import StandardScaler, OneHotEncoder\n",
    "from xgboost import XGBClassifier\n",
    "from sklearn.pipeline import Pipeline\n",
    "from scipy import stats\n",
    "from sklearn.tree import DecisionTreeClassifier\n",
    "from sklearn.ensemble import RandomForestClassifier\n",
    "from sklearn.linear_model import LogisticRegression\n",
    "import re\n",
    "from nltk.corpus import stopwords\n",
    "from nltk.stem import WordNetLemmatizer\n",
    "from nltk.tokenize import word_tokenize\n",
    "import nltk\n",
    "import random\n",
    "from wordcloud import WordCloud\n",
    "from collections import Counter\n",
    "\n",
    "import warnings\n",
    "warnings.filterwarnings('ignore')"
   ]
  },
  {
   "cell_type": "markdown",
   "metadata": {},
   "source": [
    "### Data Understanding\n",
    "\n",
    "Loading the scraped dataset"
   ]
  },
  {
   "cell_type": "code",
   "execution_count": 3,
   "metadata": {},
   "outputs": [
    {
     "data": {
      "text/html": [
       "<div>\n",
       "<style scoped>\n",
       "    .dataframe tbody tr th:only-of-type {\n",
       "        vertical-align: middle;\n",
       "    }\n",
       "\n",
       "    .dataframe tbody tr th {\n",
       "        vertical-align: top;\n",
       "    }\n",
       "\n",
       "    .dataframe thead th {\n",
       "        text-align: right;\n",
       "    }\n",
       "</style>\n",
       "<table border=\"1\" class=\"dataframe\">\n",
       "  <thead>\n",
       "    <tr style=\"text-align: right;\">\n",
       "      <th></th>\n",
       "      <th>web-scraper-order</th>\n",
       "      <th>web-scraper-start-url</th>\n",
       "      <th>product</th>\n",
       "      <th>product-href</th>\n",
       "      <th>product_name</th>\n",
       "      <th>image</th>\n",
       "      <th>price</th>\n",
       "      <th>brand</th>\n",
       "      <th>link</th>\n",
       "      <th>link-href</th>\n",
       "      <th>see_all</th>\n",
       "      <th>see_all-href</th>\n",
       "      <th>review_title</th>\n",
       "      <th>review</th>\n",
       "      <th>ratings</th>\n",
       "      <th>user_name</th>\n",
       "      <th>date</th>\n",
       "      <th>see_all_link</th>\n",
       "      <th>see_all_link-href</th>\n",
       "      <th>Category</th>\n",
       "    </tr>\n",
       "  </thead>\n",
       "  <tbody>\n",
       "    <tr>\n",
       "      <th>0</th>\n",
       "      <td>1730407108-1</td>\n",
       "      <td>https://www.jumia.co.ke/computer-accessories/</td>\n",
       "      <td>Black Friday dealLaptop Skin Wrap Vinyl from 1...</td>\n",
       "      <td>https://www.jumia.co.ke/generic-laptop-skin-wr...</td>\n",
       "      <td>Laptop Skin Wrap Vinyl from 12-17.0 inches Lap...</td>\n",
       "      <td>https://ke.jumia.is/unsafe/fit-in/680x680/filt...</td>\n",
       "      <td>KSh 699 - KSh 797</td>\n",
       "      <td>NaN</td>\n",
       "      <td>NaN</td>\n",
       "      <td>https://www.jumia.co.ke/computer-accessories/?...</td>\n",
       "      <td>NaN</td>\n",
       "      <td>NaN</td>\n",
       "      <td>NaN</td>\n",
       "      <td>NaN</td>\n",
       "      <td>NaN</td>\n",
       "      <td>NaN</td>\n",
       "      <td>NaN</td>\n",
       "      <td>NaN</td>\n",
       "      <td>NaN</td>\n",
       "      <td>Computing</td>\n",
       "    </tr>\n",
       "    <tr>\n",
       "      <th>1</th>\n",
       "      <td>1730407112-2</td>\n",
       "      <td>https://www.jumia.co.ke/computer-accessories/</td>\n",
       "      <td>Black Friday deal9\"-17\" Laptop Cooling Stand P...</td>\n",
       "      <td>https://www.jumia.co.ke/9-17-laptop-cooling-st...</td>\n",
       "      <td>9\"-17\" Laptop Cooling Stand Pad</td>\n",
       "      <td>https://ke.jumia.is/unsafe/fit-in/680x680/filt...</td>\n",
       "      <td>KSh 3,325</td>\n",
       "      <td>NaN</td>\n",
       "      <td>NaN</td>\n",
       "      <td>https://www.jumia.co.ke/computer-accessories/?...</td>\n",
       "      <td>See All</td>\n",
       "      <td>https://www.jumia.co.ke/catalog/productratings...</td>\n",
       "      <td>OKAY</td>\n",
       "      <td>Working, feels cheap</td>\n",
       "      <td>3 out of 5</td>\n",
       "      <td>by WILFRED</td>\n",
       "      <td>28/04/2022</td>\n",
       "      <td>NaN</td>\n",
       "      <td>NaN</td>\n",
       "      <td>Computing</td>\n",
       "    </tr>\n",
       "    <tr>\n",
       "      <th>2</th>\n",
       "      <td>1730407112-3</td>\n",
       "      <td>https://www.jumia.co.ke/computer-accessories/</td>\n",
       "      <td>Black Friday deal9\"-17\" Laptop Cooling Stand P...</td>\n",
       "      <td>https://www.jumia.co.ke/9-17-laptop-cooling-st...</td>\n",
       "      <td>9\"-17\" Laptop Cooling Stand Pad</td>\n",
       "      <td>https://ke.jumia.is/unsafe/fit-in/680x680/filt...</td>\n",
       "      <td>KSh 3,325</td>\n",
       "      <td>NaN</td>\n",
       "      <td>NaN</td>\n",
       "      <td>https://www.jumia.co.ke/computer-accessories/?...</td>\n",
       "      <td>See All</td>\n",
       "      <td>https://www.jumia.co.ke/catalog/productratings...</td>\n",
       "      <td>okay</td>\n",
       "      <td>A bit big for a regular laptop bag... The fanc...</td>\n",
       "      <td>4 out of 5</td>\n",
       "      <td>by Michael</td>\n",
       "      <td>8/7/2021</td>\n",
       "      <td>NaN</td>\n",
       "      <td>NaN</td>\n",
       "      <td>Computing</td>\n",
       "    </tr>\n",
       "    <tr>\n",
       "      <th>3</th>\n",
       "      <td>1730407114-4</td>\n",
       "      <td>https://www.jumia.co.ke/computer-accessories/</td>\n",
       "      <td>Black Friday dealLexar 2.5\" SATA 256GB Laptop ...</td>\n",
       "      <td>https://www.jumia.co.ke/lexar-2.5-sata-256gb-l...</td>\n",
       "      <td>Lexar 2.5\" SATA 256GB Laptop SSD</td>\n",
       "      <td>https://ke.jumia.is/unsafe/fit-in/680x680/filt...</td>\n",
       "      <td>KSh 3,799</td>\n",
       "      <td>Lexar</td>\n",
       "      <td>NaN</td>\n",
       "      <td>https://www.jumia.co.ke/computer-accessories/?...</td>\n",
       "      <td>NaN</td>\n",
       "      <td>NaN</td>\n",
       "      <td>NaN</td>\n",
       "      <td>NaN</td>\n",
       "      <td>NaN</td>\n",
       "      <td>NaN</td>\n",
       "      <td>NaN</td>\n",
       "      <td>NaN</td>\n",
       "      <td>NaN</td>\n",
       "      <td>Computing</td>\n",
       "    </tr>\n",
       "    <tr>\n",
       "      <th>4</th>\n",
       "      <td>1730407116-5</td>\n",
       "      <td>https://www.jumia.co.ke/computer-accessories/</td>\n",
       "      <td>WD External Portable Hard Drive-2TBKSh 15,000</td>\n",
       "      <td>https://www.jumia.co.ke/wd-external-portable-h...</td>\n",
       "      <td>WD External Portable Hard Drive-2TB</td>\n",
       "      <td>https://ke.jumia.is/unsafe/fit-in/680x680/filt...</td>\n",
       "      <td>KSh 15,000</td>\n",
       "      <td>WD</td>\n",
       "      <td>NaN</td>\n",
       "      <td>https://www.jumia.co.ke/computer-accessories/?...</td>\n",
       "      <td>NaN</td>\n",
       "      <td>NaN</td>\n",
       "      <td>NaN</td>\n",
       "      <td>NaN</td>\n",
       "      <td>NaN</td>\n",
       "      <td>NaN</td>\n",
       "      <td>NaN</td>\n",
       "      <td>NaN</td>\n",
       "      <td>NaN</td>\n",
       "      <td>Computing</td>\n",
       "    </tr>\n",
       "  </tbody>\n",
       "</table>\n",
       "</div>"
      ],
      "text/plain": [
       "  web-scraper-order                          web-scraper-start-url  \\\n",
       "0      1730407108-1  https://www.jumia.co.ke/computer-accessories/   \n",
       "1      1730407112-2  https://www.jumia.co.ke/computer-accessories/   \n",
       "2      1730407112-3  https://www.jumia.co.ke/computer-accessories/   \n",
       "3      1730407114-4  https://www.jumia.co.ke/computer-accessories/   \n",
       "4      1730407116-5  https://www.jumia.co.ke/computer-accessories/   \n",
       "\n",
       "                                             product  \\\n",
       "0  Black Friday dealLaptop Skin Wrap Vinyl from 1...   \n",
       "1  Black Friday deal9\"-17\" Laptop Cooling Stand P...   \n",
       "2  Black Friday deal9\"-17\" Laptop Cooling Stand P...   \n",
       "3  Black Friday dealLexar 2.5\" SATA 256GB Laptop ...   \n",
       "4      WD External Portable Hard Drive-2TBKSh 15,000   \n",
       "\n",
       "                                        product-href  \\\n",
       "0  https://www.jumia.co.ke/generic-laptop-skin-wr...   \n",
       "1  https://www.jumia.co.ke/9-17-laptop-cooling-st...   \n",
       "2  https://www.jumia.co.ke/9-17-laptop-cooling-st...   \n",
       "3  https://www.jumia.co.ke/lexar-2.5-sata-256gb-l...   \n",
       "4  https://www.jumia.co.ke/wd-external-portable-h...   \n",
       "\n",
       "                                        product_name  \\\n",
       "0  Laptop Skin Wrap Vinyl from 12-17.0 inches Lap...   \n",
       "1                    9\"-17\" Laptop Cooling Stand Pad   \n",
       "2                    9\"-17\" Laptop Cooling Stand Pad   \n",
       "3                   Lexar 2.5\" SATA 256GB Laptop SSD   \n",
       "4                WD External Portable Hard Drive-2TB   \n",
       "\n",
       "                                               image              price  \\\n",
       "0  https://ke.jumia.is/unsafe/fit-in/680x680/filt...  KSh 699 - KSh 797   \n",
       "1  https://ke.jumia.is/unsafe/fit-in/680x680/filt...          KSh 3,325   \n",
       "2  https://ke.jumia.is/unsafe/fit-in/680x680/filt...          KSh 3,325   \n",
       "3  https://ke.jumia.is/unsafe/fit-in/680x680/filt...          KSh 3,799   \n",
       "4  https://ke.jumia.is/unsafe/fit-in/680x680/filt...         KSh 15,000   \n",
       "\n",
       "   brand link                                          link-href  see_all  \\\n",
       "0    NaN  NaN  https://www.jumia.co.ke/computer-accessories/?...      NaN   \n",
       "1    NaN  NaN  https://www.jumia.co.ke/computer-accessories/?...  See All   \n",
       "2    NaN  NaN  https://www.jumia.co.ke/computer-accessories/?...  See All   \n",
       "3  Lexar  NaN  https://www.jumia.co.ke/computer-accessories/?...      NaN   \n",
       "4     WD  NaN  https://www.jumia.co.ke/computer-accessories/?...      NaN   \n",
       "\n",
       "                                        see_all-href review_title  \\\n",
       "0                                                NaN          NaN   \n",
       "1  https://www.jumia.co.ke/catalog/productratings...         OKAY   \n",
       "2  https://www.jumia.co.ke/catalog/productratings...         okay   \n",
       "3                                                NaN          NaN   \n",
       "4                                                NaN          NaN   \n",
       "\n",
       "                                              review     ratings   user_name  \\\n",
       "0                                                NaN         NaN         NaN   \n",
       "1                               Working, feels cheap  3 out of 5  by WILFRED   \n",
       "2  A bit big for a regular laptop bag... The fanc...  4 out of 5  by Michael   \n",
       "3                                                NaN         NaN         NaN   \n",
       "4                                                NaN         NaN         NaN   \n",
       "\n",
       "         date see_all_link see_all_link-href   Category  \n",
       "0         NaN          NaN               NaN  Computing  \n",
       "1  28/04/2022          NaN               NaN  Computing  \n",
       "2    8/7/2021          NaN               NaN  Computing  \n",
       "3         NaN          NaN               NaN  Computing  \n",
       "4         NaN          NaN               NaN  Computing  "
      ]
     },
     "execution_count": 3,
     "metadata": {},
     "output_type": "execute_result"
    }
   ],
   "source": [
    "# Load the data into a dataframe and read the first five rows\n",
    "df = pd.read_csv('./Data/combined_dta.csv', encoding='ISO-8859-1')\n",
    "\n",
    "df.head()"
   ]
  },
  {
   "cell_type": "code",
   "execution_count": 4,
   "metadata": {},
   "outputs": [
    {
     "name": "stdout",
     "output_type": "stream",
     "text": [
      "(60464, 20) \n",
      "\n",
      "The scraped data have 60464 rows and 20 columns\n"
     ]
    }
   ],
   "source": [
    "# Get the number of rows and columns\n",
    "print(df.shape, '\\n')\n",
    "\n",
    "print(f'The scraped data have {df.shape[0]} rows and {df.shape[1]} columns')"
   ]
  },
  {
   "cell_type": "markdown",
   "metadata": {},
   "source": [
    "To arrive at this number of rows, we ensured that we scraped as much data as possible both from the product categories and sub-categories despite being blocked from sourcing most of it but we believe that this dataset will be helpful in achieving our objectives"
   ]
  },
  {
   "cell_type": "code",
   "execution_count": 5,
   "metadata": {},
   "outputs": [
    {
     "data": {
      "text/html": [
       "<div>\n",
       "<style scoped>\n",
       "    .dataframe tbody tr th:only-of-type {\n",
       "        vertical-align: middle;\n",
       "    }\n",
       "\n",
       "    .dataframe tbody tr th {\n",
       "        vertical-align: top;\n",
       "    }\n",
       "\n",
       "    .dataframe thead th {\n",
       "        text-align: right;\n",
       "    }\n",
       "</style>\n",
       "<table border=\"1\" class=\"dataframe\">\n",
       "  <thead>\n",
       "    <tr style=\"text-align: right;\">\n",
       "      <th></th>\n",
       "      <th>web-scraper-order</th>\n",
       "      <th>web-scraper-start-url</th>\n",
       "      <th>product</th>\n",
       "      <th>product-href</th>\n",
       "      <th>product_name</th>\n",
       "      <th>image</th>\n",
       "      <th>price</th>\n",
       "      <th>brand</th>\n",
       "      <th>link</th>\n",
       "      <th>link-href</th>\n",
       "      <th>see_all</th>\n",
       "      <th>see_all-href</th>\n",
       "      <th>review_title</th>\n",
       "      <th>review</th>\n",
       "      <th>ratings</th>\n",
       "      <th>user_name</th>\n",
       "      <th>date</th>\n",
       "      <th>see_all_link</th>\n",
       "      <th>see_all_link-href</th>\n",
       "      <th>Category</th>\n",
       "    </tr>\n",
       "  </thead>\n",
       "  <tbody>\n",
       "    <tr>\n",
       "      <th>count</th>\n",
       "      <td>60464</td>\n",
       "      <td>60464</td>\n",
       "      <td>60464</td>\n",
       "      <td>60464</td>\n",
       "      <td>60464</td>\n",
       "      <td>60431</td>\n",
       "      <td>60431</td>\n",
       "      <td>39584</td>\n",
       "      <td>28043</td>\n",
       "      <td>35931</td>\n",
       "      <td>40431</td>\n",
       "      <td>40432</td>\n",
       "      <td>37705</td>\n",
       "      <td>40208</td>\n",
       "      <td>37717</td>\n",
       "      <td>37717</td>\n",
       "      <td>37717</td>\n",
       "      <td>51</td>\n",
       "      <td>51</td>\n",
       "      <td>60464</td>\n",
       "    </tr>\n",
       "    <tr>\n",
       "      <th>unique</th>\n",
       "      <td>60226</td>\n",
       "      <td>216</td>\n",
       "      <td>25444</td>\n",
       "      <td>26683</td>\n",
       "      <td>22874</td>\n",
       "      <td>26650</td>\n",
       "      <td>7994</td>\n",
       "      <td>1690</td>\n",
       "      <td>4</td>\n",
       "      <td>622</td>\n",
       "      <td>3</td>\n",
       "      <td>7817</td>\n",
       "      <td>13071</td>\n",
       "      <td>25610</td>\n",
       "      <td>6</td>\n",
       "      <td>9261</td>\n",
       "      <td>1935</td>\n",
       "      <td>1</td>\n",
       "      <td>1</td>\n",
       "      <td>14</td>\n",
       "    </tr>\n",
       "    <tr>\n",
       "      <th>top</th>\n",
       "      <td>?web-scraper-order</td>\n",
       "      <td>https://www.jumia.co.ke/mobile-phones/</td>\n",
       "      <td>Black Friday dealOut of StockOfficial StoreHis...</td>\n",
       "      <td>https://www.jumia.co.ke/hisense-ax-3100g-3.1ch...</td>\n",
       "      <td>Hisense AX-3100G 3.1ch Dolby Atmos Home Cinema...</td>\n",
       "      <td>https://ke.jumia.is/unsafe/fit-in/680x680/filt...</td>\n",
       "      <td>KSh 999</td>\n",
       "      <td>Fashion</td>\n",
       "      <td>2</td>\n",
       "      <td>https://www.jumia.co.ke/mobile-phones/?page=2#...</td>\n",
       "      <td>See All</td>\n",
       "      <td>https://www.jumia.co.ke/catalog/productratings...</td>\n",
       "      <td>I like it</td>\n",
       "      <td>Good</td>\n",
       "      <td>5 out of 5</td>\n",
       "      <td>by Brian</td>\n",
       "      <td>11/10/2024</td>\n",
       "      <td>see_all_link</td>\n",
       "      <td>see_all_link-href</td>\n",
       "      <td>Fashion</td>\n",
       "    </tr>\n",
       "    <tr>\n",
       "      <th>freq</th>\n",
       "      <td>51</td>\n",
       "      <td>1448</td>\n",
       "      <td>192</td>\n",
       "      <td>192</td>\n",
       "      <td>192</td>\n",
       "      <td>192</td>\n",
       "      <td>528</td>\n",
       "      <td>10798</td>\n",
       "      <td>15101</td>\n",
       "      <td>488</td>\n",
       "      <td>37858</td>\n",
       "      <td>192</td>\n",
       "      <td>3389</td>\n",
       "      <td>309</td>\n",
       "      <td>21726</td>\n",
       "      <td>366</td>\n",
       "      <td>470</td>\n",
       "      <td>51</td>\n",
       "      <td>51</td>\n",
       "      <td>11684</td>\n",
       "    </tr>\n",
       "  </tbody>\n",
       "</table>\n",
       "</div>"
      ],
      "text/plain": [
       "         web-scraper-order                   web-scraper-start-url  \\\n",
       "count                60464                                   60464   \n",
       "unique               60226                                     216   \n",
       "top     ?web-scraper-order  https://www.jumia.co.ke/mobile-phones/   \n",
       "freq                    51                                    1448   \n",
       "\n",
       "                                                  product  \\\n",
       "count                                               60464   \n",
       "unique                                              25444   \n",
       "top     Black Friday dealOut of StockOfficial StoreHis...   \n",
       "freq                                                  192   \n",
       "\n",
       "                                             product-href  \\\n",
       "count                                               60464   \n",
       "unique                                              26683   \n",
       "top     https://www.jumia.co.ke/hisense-ax-3100g-3.1ch...   \n",
       "freq                                                  192   \n",
       "\n",
       "                                             product_name  \\\n",
       "count                                               60464   \n",
       "unique                                              22874   \n",
       "top     Hisense AX-3100G 3.1ch Dolby Atmos Home Cinema...   \n",
       "freq                                                  192   \n",
       "\n",
       "                                                    image    price    brand  \\\n",
       "count                                               60431    60431    39584   \n",
       "unique                                              26650     7994     1690   \n",
       "top     https://ke.jumia.is/unsafe/fit-in/680x680/filt...  KSh 999  Fashion   \n",
       "freq                                                  192      528    10798   \n",
       "\n",
       "         link                                          link-href  see_all  \\\n",
       "count   28043                                              35931    40431   \n",
       "unique      4                                                622        3   \n",
       "top         2  https://www.jumia.co.ke/mobile-phones/?page=2#...  See All   \n",
       "freq    15101                                                488    37858   \n",
       "\n",
       "                                             see_all-href review_title review  \\\n",
       "count                                               40432        37705  40208   \n",
       "unique                                               7817        13071  25610   \n",
       "top     https://www.jumia.co.ke/catalog/productratings...    I like it   Good   \n",
       "freq                                                  192         3389    309   \n",
       "\n",
       "           ratings user_name        date  see_all_link  see_all_link-href  \\\n",
       "count        37717     37717       37717            51                 51   \n",
       "unique           6      9261        1935             1                  1   \n",
       "top     5 out of 5  by Brian  11/10/2024  see_all_link  see_all_link-href   \n",
       "freq         21726       366         470            51                 51   \n",
       "\n",
       "       Category  \n",
       "count     60464  \n",
       "unique       14  \n",
       "top     Fashion  \n",
       "freq      11684  "
      ]
     },
     "execution_count": 5,
     "metadata": {},
     "output_type": "execute_result"
    }
   ],
   "source": [
    "# Statistical summary\n",
    "\n",
    "df.describe()"
   ]
  },
  {
   "cell_type": "code",
   "execution_count": 6,
   "metadata": {},
   "outputs": [
    {
     "name": "stdout",
     "output_type": "stream",
     "text": [
      "<class 'pandas.core.frame.DataFrame'>\n",
      "RangeIndex: 60464 entries, 0 to 60463\n",
      "Data columns (total 20 columns):\n",
      " #   Column                 Non-Null Count  Dtype \n",
      "---  ------                 --------------  ----- \n",
      " 0   web-scraper-order      60464 non-null  object\n",
      " 1   web-scraper-start-url  60464 non-null  object\n",
      " 2   product                60464 non-null  object\n",
      " 3   product-href           60464 non-null  object\n",
      " 4   product_name           60464 non-null  object\n",
      " 5   image                  60431 non-null  object\n",
      " 6   price                  60431 non-null  object\n",
      " 7   brand                  39584 non-null  object\n",
      " 8   link                   28043 non-null  object\n",
      " 9   link-href              35931 non-null  object\n",
      " 10  see_all                40431 non-null  object\n",
      " 11  see_all-href           40432 non-null  object\n",
      " 12  review_title           37705 non-null  object\n",
      " 13  review                 40208 non-null  object\n",
      " 14  ratings                37717 non-null  object\n",
      " 15  user_name              37717 non-null  object\n",
      " 16  date                   37717 non-null  object\n",
      " 17  see_all_link           51 non-null     object\n",
      " 18  see_all_link-href      51 non-null     object\n",
      " 19  Category               60464 non-null  object\n",
      "dtypes: object(20)\n",
      "memory usage: 9.2+ MB\n"
     ]
    }
   ],
   "source": [
    "# Let's look at the data information\n",
    "df.info()"
   ]
  },
  {
   "cell_type": "code",
   "execution_count": 7,
   "metadata": {},
   "outputs": [
    {
     "name": "stdout",
     "output_type": "stream",
     "text": [
      "We have 20 columns in our dataset \n",
      "\n",
      "The columns are:\n"
     ]
    },
    {
     "data": {
      "text/plain": [
       "Index(['web-scraper-order', 'web-scraper-start-url', 'product', 'product-href',\n",
       "       'product_name', 'image', 'price', 'brand', 'link', 'link-href',\n",
       "       'see_all', 'see_all-href', 'review_title', 'review', 'ratings',\n",
       "       'user_name', 'date', 'see_all_link', 'see_all_link-href', 'Category'],\n",
       "      dtype='object')"
      ]
     },
     "execution_count": 7,
     "metadata": {},
     "output_type": "execute_result"
    }
   ],
   "source": [
    "print(f'We have {df.shape[1]} columns in our dataset', '\\n')\n",
    "\n",
    "print('The columns are:')\n",
    "\n",
    "df.columns"
   ]
  },
  {
   "cell_type": "markdown",
   "metadata": {},
   "source": [
    "To have better understanding of what each column entails and what they mean, have a look at the `column_description.txt` file in the `Data` folder\n",
    "\n",
    "### Data Cleaning"
   ]
  },
  {
   "cell_type": "code",
   "execution_count": 8,
   "metadata": {},
   "outputs": [
    {
     "data": {
      "text/plain": [
       "49"
      ]
     },
     "execution_count": 8,
     "metadata": {},
     "output_type": "execute_result"
    }
   ],
   "source": [
    "# Checks for row duplicates\n",
    "df.duplicated().sum()"
   ]
  },
  {
   "cell_type": "code",
   "execution_count": 9,
   "metadata": {},
   "outputs": [
    {
     "data": {
      "text/plain": [
       "0"
      ]
     },
     "execution_count": 9,
     "metadata": {},
     "output_type": "execute_result"
    }
   ],
   "source": [
    "# Remove row duplicates\n",
    "df.drop_duplicates(inplace=True)\n",
    "df.duplicated().sum()"
   ]
  },
  {
   "cell_type": "code",
   "execution_count": 10,
   "metadata": {},
   "outputs": [
    {
     "name": "stdout",
     "output_type": "stream",
     "text": [
      "After dropping the 53 rows with duplicates, we now remaining with 60415 rows and 20 columns\n"
     ]
    }
   ],
   "source": [
    "print(f'After dropping the 53 rows with duplicates, we now remaining with {df.shape[0]} rows and {df.shape[1]} columns')"
   ]
  },
  {
   "cell_type": "code",
   "execution_count": 11,
   "metadata": {},
   "outputs": [],
   "source": [
    "# Function to calculate the percentage of null values in every column\n",
    "\n",
    "def null_percentages(df):\n",
    "    \n",
    "    # Calculate the number of missing values and their percentage\n",
    "    null_values = df.isnull().sum()\n",
    "    null_percentage = (null_values / df.shape[0]) * 100\n",
    "    \n",
    "    # Create a DataFrame with the results\n",
    "    missing_data = pd.DataFrame({'Null Values': null_values, 'Percentage': null_percentage})\n",
    "\n",
    "    # Filter out columns with no missing values and sort by 'Missing Values'\n",
    "    missing_data = missing_data[missing_data['Null Values'] > 0].sort_values(by='Null Values', ascending=False)\n",
    "\n",
    "    return missing_data"
   ]
  },
  {
   "cell_type": "code",
   "execution_count": 12,
   "metadata": {},
   "outputs": [
    {
     "data": {
      "text/html": [
       "<div>\n",
       "<style scoped>\n",
       "    .dataframe tbody tr th:only-of-type {\n",
       "        vertical-align: middle;\n",
       "    }\n",
       "\n",
       "    .dataframe tbody tr th {\n",
       "        vertical-align: top;\n",
       "    }\n",
       "\n",
       "    .dataframe thead th {\n",
       "        text-align: right;\n",
       "    }\n",
       "</style>\n",
       "<table border=\"1\" class=\"dataframe\">\n",
       "  <thead>\n",
       "    <tr style=\"text-align: right;\">\n",
       "      <th></th>\n",
       "      <th>Null Values</th>\n",
       "      <th>Percentage</th>\n",
       "    </tr>\n",
       "  </thead>\n",
       "  <tbody>\n",
       "    <tr>\n",
       "      <th>see_all_link</th>\n",
       "      <td>60413</td>\n",
       "      <td>99.996690</td>\n",
       "    </tr>\n",
       "    <tr>\n",
       "      <th>see_all_link-href</th>\n",
       "      <td>60413</td>\n",
       "      <td>99.996690</td>\n",
       "    </tr>\n",
       "    <tr>\n",
       "      <th>link</th>\n",
       "      <td>32421</td>\n",
       "      <td>53.663825</td>\n",
       "    </tr>\n",
       "    <tr>\n",
       "      <th>link-href</th>\n",
       "      <td>24533</td>\n",
       "      <td>40.607465</td>\n",
       "    </tr>\n",
       "    <tr>\n",
       "      <th>review_title</th>\n",
       "      <td>22759</td>\n",
       "      <td>37.671108</td>\n",
       "    </tr>\n",
       "    <tr>\n",
       "      <th>ratings</th>\n",
       "      <td>22747</td>\n",
       "      <td>37.651246</td>\n",
       "    </tr>\n",
       "    <tr>\n",
       "      <th>user_name</th>\n",
       "      <td>22747</td>\n",
       "      <td>37.651246</td>\n",
       "    </tr>\n",
       "    <tr>\n",
       "      <th>date</th>\n",
       "      <td>22747</td>\n",
       "      <td>37.651246</td>\n",
       "    </tr>\n",
       "    <tr>\n",
       "      <th>brand</th>\n",
       "      <td>20880</td>\n",
       "      <td>34.560953</td>\n",
       "    </tr>\n",
       "    <tr>\n",
       "      <th>review</th>\n",
       "      <td>20256</td>\n",
       "      <td>33.528097</td>\n",
       "    </tr>\n",
       "    <tr>\n",
       "      <th>see_all</th>\n",
       "      <td>20033</td>\n",
       "      <td>33.158984</td>\n",
       "    </tr>\n",
       "    <tr>\n",
       "      <th>see_all-href</th>\n",
       "      <td>20032</td>\n",
       "      <td>33.157328</td>\n",
       "    </tr>\n",
       "    <tr>\n",
       "      <th>image</th>\n",
       "      <td>33</td>\n",
       "      <td>0.054622</td>\n",
       "    </tr>\n",
       "    <tr>\n",
       "      <th>price</th>\n",
       "      <td>33</td>\n",
       "      <td>0.054622</td>\n",
       "    </tr>\n",
       "  </tbody>\n",
       "</table>\n",
       "</div>"
      ],
      "text/plain": [
       "                   Null Values  Percentage\n",
       "see_all_link             60413   99.996690\n",
       "see_all_link-href        60413   99.996690\n",
       "link                     32421   53.663825\n",
       "link-href                24533   40.607465\n",
       "review_title             22759   37.671108\n",
       "ratings                  22747   37.651246\n",
       "user_name                22747   37.651246\n",
       "date                     22747   37.651246\n",
       "brand                    20880   34.560953\n",
       "review                   20256   33.528097\n",
       "see_all                  20033   33.158984\n",
       "see_all-href             20032   33.157328\n",
       "image                       33    0.054622\n",
       "price                       33    0.054622"
      ]
     },
     "execution_count": 12,
     "metadata": {},
     "output_type": "execute_result"
    }
   ],
   "source": [
    "null_percentages(df)"
   ]
  },
  {
   "cell_type": "markdown",
   "metadata": {},
   "source": [
    "We have lots of columns with over **35%** null values and so, we are going to of how to deal with the null values and at the same time maintain as much data as possible  \n",
    "\n",
    "Let's plot a heat map for the missing values"
   ]
  },
  {
   "cell_type": "code",
   "execution_count": 13,
   "metadata": {},
   "outputs": [
    {
     "data": {
      "image/png": "[encoded data removed]",
      "text/plain": [
       "<Figure size 864x432 with 1 Axes>"
      ]
     },
     "metadata": {
      "needs_background": "light"
     },
     "output_type": "display_data"
    }
   ],
   "source": [
    "# Plot missing values as a heatmap\n",
    "plt.figure(figsize=(12, 6))\n",
    "sns.heatmap(df.isnull(), cbar=False, cmap='viridis')\n",
    "plt.title(\"Missing Values Heatmap\")\n",
    "plt.show();"
   ]
  },
  {
   "cell_type": "markdown",
   "metadata": {},
   "source": [
    "Notable Columns with Missing Data:\n",
    "\n",
    "`review_title`  \n",
    "`link-href`   \n",
    "`user_rating`   \n",
    "Several columns related to scraping and product information\n",
    "\n",
    "*Data Quality Implications*:\n",
    "\n",
    "This visualization helps identify:\n",
    "\n",
    "* Which columns need data cleaning\n",
    "* Patterns of missing data that might indicate scraping issues\n",
    "* Columns that might need to be dropped or imputed\n",
    "* Potential systematic issues in data collection"
   ]
  },
  {
   "cell_type": "code",
   "execution_count": 14,
   "metadata": {},
   "outputs": [
    {
     "data": {
      "text/plain": [
       "(60415, 14)"
      ]
     },
     "execution_count": 14,
     "metadata": {},
     "output_type": "execute_result"
    }
   ],
   "source": [
    "df.drop(['see_all_link-href', 'see_all_link', 'see_all-href', 'see_all', 'link-href', 'link'], axis=1, inplace=True,)\n",
    "df.shape"
   ]
  },
  {
   "cell_type": "code",
   "execution_count": 15,
   "metadata": {},
   "outputs": [
    {
     "data": {
      "text/plain": [
       "Index(['web-scraper-order', 'web-scraper-start-url', 'product', 'product-href',\n",
       "       'product_name', 'image', 'price', 'brand', 'review_title', 'review',\n",
       "       'ratings', 'user_name', 'date', 'Category'],\n",
       "      dtype='object')"
      ]
     },
     "execution_count": 15,
     "metadata": {},
     "output_type": "execute_result"
    }
   ],
   "source": [
    "df.columns"
   ]
  },
  {
   "cell_type": "markdown",
   "metadata": {},
   "source": [
    "We are now remaining with 14 columns. \n",
    "\n",
    "Since we have got further information that we need from other columns, we going to extract **ratings** from `ratings` column, **sub_category** from `web-scraper-start-url` column, **overall_ratings** from `product` column and **rating_count** from `product` column"
   ]
  },
  {
   "cell_type": "code",
   "execution_count": 16,
   "metadata": {},
   "outputs": [],
   "source": [
    "# Extract ratings, sub_category, overall_ratings, date, month, year and ratings_count\n",
    "\n",
    "df['ratings'] = df['ratings'].str.extract(r'(\\d+)').astype(float)\n",
    "\n",
    "df['sub_category'] = df['web-scraper-start-url'].str.extract(r'\\.ke/([^/]+)/')\n",
    "\n",
    "df['overall_ratings'] = df['product'].str.extract(r'(\\d+(\\.\\d+)?) out of 5')[0]\n",
    "\n",
    "df['ratings_count'] = df['product'].str.extract(r'(\\d+) out of 5\\((\\d+)\\)')[1].astype(float)"
   ]
  },
  {
   "cell_type": "code",
   "execution_count": 17,
   "metadata": {},
   "outputs": [],
   "source": [
    "# Stripping 'by' from user_name\n",
    "\n",
    "df['user_name'] = df['user_name'].str.lstrip('by')"
   ]
  },
  {
   "cell_type": "code",
   "execution_count": 18,
   "metadata": {},
   "outputs": [],
   "source": [
    "# Function to remove the currency and calculate the average of the price range\n",
    "\n",
    "def convert_price(price):\n",
    "    # Remove non-numeric characters (i.e.currency symbols)\n",
    "    cleaned_price = re.sub(r\"[^\\d.-]\", \"\", str(price))\n",
    "    \n",
    "    # Handle ranges\n",
    "    if '-' in cleaned_price:\n",
    "        try:\n",
    "            low, high = map(float, cleaned_price.split('-'))\n",
    "            return (low + high) / 2\n",
    "        except ValueError:\n",
    "            return None  # Return None if conversion fails\n",
    "    else:\n",
    "        try:\n",
    "            return float(cleaned_price)  # Convert single prices to float\n",
    "        except ValueError:\n",
    "            return None"
   ]
  },
  {
   "cell_type": "code",
   "execution_count": 19,
   "metadata": {},
   "outputs": [],
   "source": [
    "# Apply the conversion function to the price column\n",
    "\n",
    "df['price'] = df['price'].apply(convert_price)"
   ]
  },
  {
   "cell_type": "code",
   "execution_count": 20,
   "metadata": {},
   "outputs": [
    {
     "data": {
      "text/html": [
       "<div>\n",
       "<style scoped>\n",
       "    .dataframe tbody tr th:only-of-type {\n",
       "        vertical-align: middle;\n",
       "    }\n",
       "\n",
       "    .dataframe tbody tr th {\n",
       "        vertical-align: top;\n",
       "    }\n",
       "\n",
       "    .dataframe thead th {\n",
       "        text-align: right;\n",
       "    }\n",
       "</style>\n",
       "<table border=\"1\" class=\"dataframe\">\n",
       "  <thead>\n",
       "    <tr style=\"text-align: right;\">\n",
       "      <th></th>\n",
       "      <th>web-scraper-order</th>\n",
       "      <th>web-scraper-start-url</th>\n",
       "      <th>product</th>\n",
       "      <th>product-href</th>\n",
       "      <th>product_name</th>\n",
       "      <th>image</th>\n",
       "      <th>price</th>\n",
       "      <th>brand</th>\n",
       "      <th>review_title</th>\n",
       "      <th>review</th>\n",
       "      <th>ratings</th>\n",
       "      <th>user_name</th>\n",
       "      <th>date</th>\n",
       "      <th>Category</th>\n",
       "      <th>sub_category</th>\n",
       "      <th>overall_ratings</th>\n",
       "      <th>ratings_count</th>\n",
       "    </tr>\n",
       "  </thead>\n",
       "  <tbody>\n",
       "    <tr>\n",
       "      <th>0</th>\n",
       "      <td>1730407108-1</td>\n",
       "      <td>https://www.jumia.co.ke/computer-accessories/</td>\n",
       "      <td>Black Friday dealLaptop Skin Wrap Vinyl from 1...</td>\n",
       "      <td>https://www.jumia.co.ke/generic-laptop-skin-wr...</td>\n",
       "      <td>Laptop Skin Wrap Vinyl from 12-17.0 inches Lap...</td>\n",
       "      <td>https://ke.jumia.is/unsafe/fit-in/680x680/filt...</td>\n",
       "      <td>748.0</td>\n",
       "      <td>NaN</td>\n",
       "      <td>NaN</td>\n",
       "      <td>NaN</td>\n",
       "      <td>NaN</td>\n",
       "      <td>NaN</td>\n",
       "      <td>NaN</td>\n",
       "      <td>Computing</td>\n",
       "      <td>computer-accessories</td>\n",
       "      <td>NaN</td>\n",
       "      <td>NaN</td>\n",
       "    </tr>\n",
       "    <tr>\n",
       "      <th>1</th>\n",
       "      <td>1730407112-2</td>\n",
       "      <td>https://www.jumia.co.ke/computer-accessories/</td>\n",
       "      <td>Black Friday deal9\"-17\" Laptop Cooling Stand P...</td>\n",
       "      <td>https://www.jumia.co.ke/9-17-laptop-cooling-st...</td>\n",
       "      <td>9\"-17\" Laptop Cooling Stand Pad</td>\n",
       "      <td>https://ke.jumia.is/unsafe/fit-in/680x680/filt...</td>\n",
       "      <td>3325.0</td>\n",
       "      <td>NaN</td>\n",
       "      <td>OKAY</td>\n",
       "      <td>Working, feels cheap</td>\n",
       "      <td>3.0</td>\n",
       "      <td>WILFRED</td>\n",
       "      <td>28/04/2022</td>\n",
       "      <td>Computing</td>\n",
       "      <td>computer-accessories</td>\n",
       "      <td>4.1</td>\n",
       "      <td>7.0</td>\n",
       "    </tr>\n",
       "    <tr>\n",
       "      <th>2</th>\n",
       "      <td>1730407112-3</td>\n",
       "      <td>https://www.jumia.co.ke/computer-accessories/</td>\n",
       "      <td>Black Friday deal9\"-17\" Laptop Cooling Stand P...</td>\n",
       "      <td>https://www.jumia.co.ke/9-17-laptop-cooling-st...</td>\n",
       "      <td>9\"-17\" Laptop Cooling Stand Pad</td>\n",
       "      <td>https://ke.jumia.is/unsafe/fit-in/680x680/filt...</td>\n",
       "      <td>3325.0</td>\n",
       "      <td>NaN</td>\n",
       "      <td>okay</td>\n",
       "      <td>A bit big for a regular laptop bag... The fanc...</td>\n",
       "      <td>4.0</td>\n",
       "      <td>Michael</td>\n",
       "      <td>8/7/2021</td>\n",
       "      <td>Computing</td>\n",
       "      <td>computer-accessories</td>\n",
       "      <td>4.1</td>\n",
       "      <td>7.0</td>\n",
       "    </tr>\n",
       "    <tr>\n",
       "      <th>3</th>\n",
       "      <td>1730407114-4</td>\n",
       "      <td>https://www.jumia.co.ke/computer-accessories/</td>\n",
       "      <td>Black Friday dealLexar 2.5\" SATA 256GB Laptop ...</td>\n",
       "      <td>https://www.jumia.co.ke/lexar-2.5-sata-256gb-l...</td>\n",
       "      <td>Lexar 2.5\" SATA 256GB Laptop SSD</td>\n",
       "      <td>https://ke.jumia.is/unsafe/fit-in/680x680/filt...</td>\n",
       "      <td>3799.0</td>\n",
       "      <td>Lexar</td>\n",
       "      <td>NaN</td>\n",
       "      <td>NaN</td>\n",
       "      <td>NaN</td>\n",
       "      <td>NaN</td>\n",
       "      <td>NaN</td>\n",
       "      <td>Computing</td>\n",
       "      <td>computer-accessories</td>\n",
       "      <td>NaN</td>\n",
       "      <td>NaN</td>\n",
       "    </tr>\n",
       "    <tr>\n",
       "      <th>4</th>\n",
       "      <td>1730407116-5</td>\n",
       "      <td>https://www.jumia.co.ke/computer-accessories/</td>\n",
       "      <td>WD External Portable Hard Drive-2TBKSh 15,000</td>\n",
       "      <td>https://www.jumia.co.ke/wd-external-portable-h...</td>\n",
       "      <td>WD External Portable Hard Drive-2TB</td>\n",
       "      <td>https://ke.jumia.is/unsafe/fit-in/680x680/filt...</td>\n",
       "      <td>15000.0</td>\n",
       "      <td>WD</td>\n",
       "      <td>NaN</td>\n",
       "      <td>NaN</td>\n",
       "      <td>NaN</td>\n",
       "      <td>NaN</td>\n",
       "      <td>NaN</td>\n",
       "      <td>Computing</td>\n",
       "      <td>computer-accessories</td>\n",
       "      <td>NaN</td>\n",
       "      <td>NaN</td>\n",
       "    </tr>\n",
       "  </tbody>\n",
       "</table>\n",
       "</div>"
      ],
      "text/plain": [
       "  web-scraper-order                          web-scraper-start-url  \\\n",
       "0      1730407108-1  https://www.jumia.co.ke/computer-accessories/   \n",
       "1      1730407112-2  https://www.jumia.co.ke/computer-accessories/   \n",
       "2      1730407112-3  https://www.jumia.co.ke/computer-accessories/   \n",
       "3      1730407114-4  https://www.jumia.co.ke/computer-accessories/   \n",
       "4      1730407116-5  https://www.jumia.co.ke/computer-accessories/   \n",
       "\n",
       "                                             product  \\\n",
       "0  Black Friday dealLaptop Skin Wrap Vinyl from 1...   \n",
       "1  Black Friday deal9\"-17\" Laptop Cooling Stand P...   \n",
       "2  Black Friday deal9\"-17\" Laptop Cooling Stand P...   \n",
       "3  Black Friday dealLexar 2.5\" SATA 256GB Laptop ...   \n",
       "4      WD External Portable Hard Drive-2TBKSh 15,000   \n",
       "\n",
       "                                        product-href  \\\n",
       "0  https://www.jumia.co.ke/generic-laptop-skin-wr...   \n",
       "1  https://www.jumia.co.ke/9-17-laptop-cooling-st...   \n",
       "2  https://www.jumia.co.ke/9-17-laptop-cooling-st...   \n",
       "3  https://www.jumia.co.ke/lexar-2.5-sata-256gb-l...   \n",
       "4  https://www.jumia.co.ke/wd-external-portable-h...   \n",
       "\n",
       "                                        product_name  \\\n",
       "0  Laptop Skin Wrap Vinyl from 12-17.0 inches Lap...   \n",
       "1                    9\"-17\" Laptop Cooling Stand Pad   \n",
       "2                    9\"-17\" Laptop Cooling Stand Pad   \n",
       "3                   Lexar 2.5\" SATA 256GB Laptop SSD   \n",
       "4                WD External Portable Hard Drive-2TB   \n",
       "\n",
       "                                               image    price  brand  \\\n",
       "0  https://ke.jumia.is/unsafe/fit-in/680x680/filt...    748.0    NaN   \n",
       "1  https://ke.jumia.is/unsafe/fit-in/680x680/filt...   3325.0    NaN   \n",
       "2  https://ke.jumia.is/unsafe/fit-in/680x680/filt...   3325.0    NaN   \n",
       "3  https://ke.jumia.is/unsafe/fit-in/680x680/filt...   3799.0  Lexar   \n",
       "4  https://ke.jumia.is/unsafe/fit-in/680x680/filt...  15000.0     WD   \n",
       "\n",
       "  review_title                                             review  ratings  \\\n",
       "0          NaN                                                NaN      NaN   \n",
       "1         OKAY                               Working, feels cheap      3.0   \n",
       "2         okay  A bit big for a regular laptop bag... The fanc...      4.0   \n",
       "3          NaN                                                NaN      NaN   \n",
       "4          NaN                                                NaN      NaN   \n",
       "\n",
       "  user_name        date   Category          sub_category overall_ratings  \\\n",
       "0       NaN         NaN  Computing  computer-accessories             NaN   \n",
       "1   WILFRED  28/04/2022  Computing  computer-accessories             4.1   \n",
       "2   Michael    8/7/2021  Computing  computer-accessories             4.1   \n",
       "3       NaN         NaN  Computing  computer-accessories             NaN   \n",
       "4       NaN         NaN  Computing  computer-accessories             NaN   \n",
       "\n",
       "   ratings_count  \n",
       "0            NaN  \n",
       "1            7.0  \n",
       "2            7.0  \n",
       "3            NaN  \n",
       "4            NaN  "
      ]
     },
     "execution_count": 20,
     "metadata": {},
     "output_type": "execute_result"
    }
   ],
   "source": [
    "# Show the first 5 rows of the DataFrame\n",
    "\n",
    "df.head()"
   ]
  },
  {
   "cell_type": "code",
   "execution_count": 21,
   "metadata": {},
   "outputs": [
    {
     "name": "stdout",
     "output_type": "stream",
     "text": [
      "We have 60415 rows and 17 columns after extraction and addition of new columns\n"
     ]
    }
   ],
   "source": [
    "print(f'We have {df.shape[0]} rows and {df.shape[1]} columns after extraction and addition of new columns')"
   ]
  },
  {
   "cell_type": "markdown",
   "metadata": {},
   "source": [
    "We now going to remove columns that are no longer useful"
   ]
  },
  {
   "cell_type": "code",
   "execution_count": 22,
   "metadata": {},
   "outputs": [],
   "source": [
    "df.drop(['web-scraper-start-url', 'product', 'product-href', 'date'], axis=1, inplace=True)"
   ]
  },
  {
   "cell_type": "code",
   "execution_count": 23,
   "metadata": {},
   "outputs": [
    {
     "data": {
      "text/html": [
       "<div>\n",
       "<style scoped>\n",
       "    .dataframe tbody tr th:only-of-type {\n",
       "        vertical-align: middle;\n",
       "    }\n",
       "\n",
       "    .dataframe tbody tr th {\n",
       "        vertical-align: top;\n",
       "    }\n",
       "\n",
       "    .dataframe thead th {\n",
       "        text-align: right;\n",
       "    }\n",
       "</style>\n",
       "<table border=\"1\" class=\"dataframe\">\n",
       "  <thead>\n",
       "    <tr style=\"text-align: right;\">\n",
       "      <th></th>\n",
       "      <th>web-scraper-order</th>\n",
       "      <th>product_name</th>\n",
       "      <th>image</th>\n",
       "      <th>price</th>\n",
       "      <th>brand</th>\n",
       "      <th>review_title</th>\n",
       "      <th>review</th>\n",
       "      <th>ratings</th>\n",
       "      <th>user_name</th>\n",
       "      <th>Category</th>\n",
       "      <th>sub_category</th>\n",
       "      <th>overall_ratings</th>\n",
       "      <th>ratings_count</th>\n",
       "    </tr>\n",
       "  </thead>\n",
       "  <tbody>\n",
       "    <tr>\n",
       "      <th>0</th>\n",
       "      <td>1730407108-1</td>\n",
       "      <td>Laptop Skin Wrap Vinyl from 12-17.0 inches Lap...</td>\n",
       "      <td>https://ke.jumia.is/unsafe/fit-in/680x680/filt...</td>\n",
       "      <td>748.0</td>\n",
       "      <td>NaN</td>\n",
       "      <td>NaN</td>\n",
       "      <td>NaN</td>\n",
       "      <td>NaN</td>\n",
       "      <td>NaN</td>\n",
       "      <td>Computing</td>\n",
       "      <td>computer-accessories</td>\n",
       "      <td>NaN</td>\n",
       "      <td>NaN</td>\n",
       "    </tr>\n",
       "    <tr>\n",
       "      <th>1</th>\n",
       "      <td>1730407112-2</td>\n",
       "      <td>9\"-17\" Laptop Cooling Stand Pad</td>\n",
       "      <td>https://ke.jumia.is/unsafe/fit-in/680x680/filt...</td>\n",
       "      <td>3325.0</td>\n",
       "      <td>NaN</td>\n",
       "      <td>OKAY</td>\n",
       "      <td>Working, feels cheap</td>\n",
       "      <td>3.0</td>\n",
       "      <td>WILFRED</td>\n",
       "      <td>Computing</td>\n",
       "      <td>computer-accessories</td>\n",
       "      <td>4.1</td>\n",
       "      <td>7.0</td>\n",
       "    </tr>\n",
       "    <tr>\n",
       "      <th>2</th>\n",
       "      <td>1730407112-3</td>\n",
       "      <td>9\"-17\" Laptop Cooling Stand Pad</td>\n",
       "      <td>https://ke.jumia.is/unsafe/fit-in/680x680/filt...</td>\n",
       "      <td>3325.0</td>\n",
       "      <td>NaN</td>\n",
       "      <td>okay</td>\n",
       "      <td>A bit big for a regular laptop bag... The fanc...</td>\n",
       "      <td>4.0</td>\n",
       "      <td>Michael</td>\n",
       "      <td>Computing</td>\n",
       "      <td>computer-accessories</td>\n",
       "      <td>4.1</td>\n",
       "      <td>7.0</td>\n",
       "    </tr>\n",
       "    <tr>\n",
       "      <th>3</th>\n",
       "      <td>1730407114-4</td>\n",
       "      <td>Lexar 2.5\" SATA 256GB Laptop SSD</td>\n",
       "      <td>https://ke.jumia.is/unsafe/fit-in/680x680/filt...</td>\n",
       "      <td>3799.0</td>\n",
       "      <td>Lexar</td>\n",
       "      <td>NaN</td>\n",
       "      <td>NaN</td>\n",
       "      <td>NaN</td>\n",
       "      <td>NaN</td>\n",
       "      <td>Computing</td>\n",
       "      <td>computer-accessories</td>\n",
       "      <td>NaN</td>\n",
       "      <td>NaN</td>\n",
       "    </tr>\n",
       "    <tr>\n",
       "      <th>4</th>\n",
       "      <td>1730407116-5</td>\n",
       "      <td>WD External Portable Hard Drive-2TB</td>\n",
       "      <td>https://ke.jumia.is/unsafe/fit-in/680x680/filt...</td>\n",
       "      <td>15000.0</td>\n",
       "      <td>WD</td>\n",
       "      <td>NaN</td>\n",
       "      <td>NaN</td>\n",
       "      <td>NaN</td>\n",
       "      <td>NaN</td>\n",
       "      <td>Computing</td>\n",
       "      <td>computer-accessories</td>\n",
       "      <td>NaN</td>\n",
       "      <td>NaN</td>\n",
       "    </tr>\n",
       "  </tbody>\n",
       "</table>\n",
       "</div>"
      ],
      "text/plain": [
       "  web-scraper-order                                       product_name  \\\n",
       "0      1730407108-1  Laptop Skin Wrap Vinyl from 12-17.0 inches Lap...   \n",
       "1      1730407112-2                    9\"-17\" Laptop Cooling Stand Pad   \n",
       "2      1730407112-3                    9\"-17\" Laptop Cooling Stand Pad   \n",
       "3      1730407114-4                   Lexar 2.5\" SATA 256GB Laptop SSD   \n",
       "4      1730407116-5                WD External Portable Hard Drive-2TB   \n",
       "\n",
       "                                               image    price  brand  \\\n",
       "0  https://ke.jumia.is/unsafe/fit-in/680x680/filt...    748.0    NaN   \n",
       "1  https://ke.jumia.is/unsafe/fit-in/680x680/filt...   3325.0    NaN   \n",
       "2  https://ke.jumia.is/unsafe/fit-in/680x680/filt...   3325.0    NaN   \n",
       "3  https://ke.jumia.is/unsafe/fit-in/680x680/filt...   3799.0  Lexar   \n",
       "4  https://ke.jumia.is/unsafe/fit-in/680x680/filt...  15000.0     WD   \n",
       "\n",
       "  review_title                                             review  ratings  \\\n",
       "0          NaN                                                NaN      NaN   \n",
       "1         OKAY                               Working, feels cheap      3.0   \n",
       "2         okay  A bit big for a regular laptop bag... The fanc...      4.0   \n",
       "3          NaN                                                NaN      NaN   \n",
       "4          NaN                                                NaN      NaN   \n",
       "\n",
       "  user_name   Category          sub_category overall_ratings  ratings_count  \n",
       "0       NaN  Computing  computer-accessories             NaN            NaN  \n",
       "1   WILFRED  Computing  computer-accessories             4.1            7.0  \n",
       "2   Michael  Computing  computer-accessories             4.1            7.0  \n",
       "3       NaN  Computing  computer-accessories             NaN            NaN  \n",
       "4       NaN  Computing  computer-accessories             NaN            NaN  "
      ]
     },
     "execution_count": 23,
     "metadata": {},
     "output_type": "execute_result"
    }
   ],
   "source": [
    "df.head()"
   ]
  },
  {
   "cell_type": "code",
   "execution_count": 24,
   "metadata": {},
   "outputs": [
    {
     "data": {
      "text/html": [
       "<div>\n",
       "<style scoped>\n",
       "    .dataframe tbody tr th:only-of-type {\n",
       "        vertical-align: middle;\n",
       "    }\n",
       "\n",
       "    .dataframe tbody tr th {\n",
       "        vertical-align: top;\n",
       "    }\n",
       "\n",
       "    .dataframe thead th {\n",
       "        text-align: right;\n",
       "    }\n",
       "</style>\n",
       "<table border=\"1\" class=\"dataframe\">\n",
       "  <thead>\n",
       "    <tr style=\"text-align: right;\">\n",
       "      <th></th>\n",
       "      <th>Null Values</th>\n",
       "      <th>Percentage</th>\n",
       "    </tr>\n",
       "  </thead>\n",
       "  <tbody>\n",
       "    <tr>\n",
       "      <th>review_title</th>\n",
       "      <td>22759</td>\n",
       "      <td>37.671108</td>\n",
       "    </tr>\n",
       "    <tr>\n",
       "      <th>ratings</th>\n",
       "      <td>22749</td>\n",
       "      <td>37.654556</td>\n",
       "    </tr>\n",
       "    <tr>\n",
       "      <th>user_name</th>\n",
       "      <td>22747</td>\n",
       "      <td>37.651246</td>\n",
       "    </tr>\n",
       "    <tr>\n",
       "      <th>brand</th>\n",
       "      <td>20880</td>\n",
       "      <td>34.560953</td>\n",
       "    </tr>\n",
       "    <tr>\n",
       "      <th>overall_ratings</th>\n",
       "      <td>20583</td>\n",
       "      <td>34.069354</td>\n",
       "    </tr>\n",
       "    <tr>\n",
       "      <th>ratings_count</th>\n",
       "      <td>20583</td>\n",
       "      <td>34.069354</td>\n",
       "    </tr>\n",
       "    <tr>\n",
       "      <th>review</th>\n",
       "      <td>20256</td>\n",
       "      <td>33.528097</td>\n",
       "    </tr>\n",
       "    <tr>\n",
       "      <th>price</th>\n",
       "      <td>35</td>\n",
       "      <td>0.057933</td>\n",
       "    </tr>\n",
       "    <tr>\n",
       "      <th>image</th>\n",
       "      <td>33</td>\n",
       "      <td>0.054622</td>\n",
       "    </tr>\n",
       "    <tr>\n",
       "      <th>sub_category</th>\n",
       "      <td>2</td>\n",
       "      <td>0.003310</td>\n",
       "    </tr>\n",
       "  </tbody>\n",
       "</table>\n",
       "</div>"
      ],
      "text/plain": [
       "                 Null Values  Percentage\n",
       "review_title           22759   37.671108\n",
       "ratings                22749   37.654556\n",
       "user_name              22747   37.651246\n",
       "brand                  20880   34.560953\n",
       "overall_ratings        20583   34.069354\n",
       "ratings_count          20583   34.069354\n",
       "review                 20256   33.528097\n",
       "price                     35    0.057933\n",
       "image                     33    0.054622\n",
       "sub_category               2    0.003310"
      ]
     },
     "execution_count": 24,
     "metadata": {},
     "output_type": "execute_result"
    }
   ],
   "source": [
    "# Check for null values and their percentage\n",
    "\n",
    "null_percentages(df)"
   ]
  },
  {
   "cell_type": "markdown",
   "metadata": {},
   "source": [
    "As per the above output, `ratings`, `user_name` and `review_title` which have over **35%** missing values  \n",
    "\n",
    "Let's have a look at the statistical summary for the numerical columns"
   ]
  },
  {
   "cell_type": "code",
   "execution_count": 25,
   "metadata": {},
   "outputs": [
    {
     "data": {
      "text/html": [
       "<div>\n",
       "<style scoped>\n",
       "    .dataframe tbody tr th:only-of-type {\n",
       "        vertical-align: middle;\n",
       "    }\n",
       "\n",
       "    .dataframe tbody tr th {\n",
       "        vertical-align: top;\n",
       "    }\n",
       "\n",
       "    .dataframe thead th {\n",
       "        text-align: right;\n",
       "    }\n",
       "</style>\n",
       "<table border=\"1\" class=\"dataframe\">\n",
       "  <thead>\n",
       "    <tr style=\"text-align: right;\">\n",
       "      <th></th>\n",
       "      <th>price</th>\n",
       "      <th>ratings</th>\n",
       "      <th>ratings_count</th>\n",
       "    </tr>\n",
       "  </thead>\n",
       "  <tbody>\n",
       "    <tr>\n",
       "      <th>count</th>\n",
       "      <td>6.038000e+04</td>\n",
       "      <td>37666.000000</td>\n",
       "      <td>39832.000000</td>\n",
       "    </tr>\n",
       "    <tr>\n",
       "      <th>mean</th>\n",
       "      <td>5.253730e+03</td>\n",
       "      <td>4.056762</td>\n",
       "      <td>90.309148</td>\n",
       "    </tr>\n",
       "    <tr>\n",
       "      <th>std</th>\n",
       "      <td>1.765041e+04</td>\n",
       "      <td>1.358256</td>\n",
       "      <td>281.202628</td>\n",
       "    </tr>\n",
       "    <tr>\n",
       "      <th>min</th>\n",
       "      <td>3.000000e+01</td>\n",
       "      <td>1.000000</td>\n",
       "      <td>1.000000</td>\n",
       "    </tr>\n",
       "    <tr>\n",
       "      <th>25%</th>\n",
       "      <td>7.248750e+02</td>\n",
       "      <td>3.000000</td>\n",
       "      <td>12.000000</td>\n",
       "    </tr>\n",
       "    <tr>\n",
       "      <th>50%</th>\n",
       "      <td>1.390000e+03</td>\n",
       "      <td>5.000000</td>\n",
       "      <td>31.000000</td>\n",
       "    </tr>\n",
       "    <tr>\n",
       "      <th>75%</th>\n",
       "      <td>3.849250e+03</td>\n",
       "      <td>5.000000</td>\n",
       "      <td>71.000000</td>\n",
       "    </tr>\n",
       "    <tr>\n",
       "      <th>max</th>\n",
       "      <td>1.370668e+06</td>\n",
       "      <td>5.000000</td>\n",
       "      <td>5225.000000</td>\n",
       "    </tr>\n",
       "  </tbody>\n",
       "</table>\n",
       "</div>"
      ],
      "text/plain": [
       "              price       ratings  ratings_count\n",
       "count  6.038000e+04  37666.000000   39832.000000\n",
       "mean   5.253730e+03      4.056762      90.309148\n",
       "std    1.765041e+04      1.358256     281.202628\n",
       "min    3.000000e+01      1.000000       1.000000\n",
       "25%    7.248750e+02      3.000000      12.000000\n",
       "50%    1.390000e+03      5.000000      31.000000\n",
       "75%    3.849250e+03      5.000000      71.000000\n",
       "max    1.370668e+06      5.000000    5225.000000"
      ]
     },
     "execution_count": 25,
     "metadata": {},
     "output_type": "execute_result"
    }
   ],
   "source": [
    "df.describe()"
   ]
  },
  {
   "cell_type": "markdown",
   "metadata": {},
   "source": [
    "#### Imputation"
   ]
  },
  {
   "cell_type": "code",
   "execution_count": 26,
   "metadata": {},
   "outputs": [],
   "source": [
    "# Impute less critical columns\n",
    "\n",
    "df['brand'].fillna('Unknown', inplace=True)\n",
    "\n",
    "df['review_title'].fillna('No Title', inplace=True)\n",
    "\n",
    "df['user_name'].fillna('No name', inplace=True)\n",
    "\n",
    "df['ratings'].fillna(0, inplace=True)\n",
    "\n",
    "# df['review'].fillna('No review', inplace=True)\n",
    "\n",
    "# df['overall_ratings'].fillna(0, inplace=True)\n",
    "\n",
    "df['ratings_count'].fillna(0, inplace=True)"
   ]
  },
  {
   "cell_type": "code",
   "execution_count": 27,
   "metadata": {},
   "outputs": [],
   "source": [
    "# Drop the remaining negligible null values\n",
    "\n",
    "df = df.dropna()"
   ]
  },
  {
   "cell_type": "code",
   "execution_count": 28,
   "metadata": {},
   "outputs": [
    {
     "data": {
      "text/html": [
       "<div>\n",
       "<style scoped>\n",
       "    .dataframe tbody tr th:only-of-type {\n",
       "        vertical-align: middle;\n",
       "    }\n",
       "\n",
       "    .dataframe tbody tr th {\n",
       "        vertical-align: top;\n",
       "    }\n",
       "\n",
       "    .dataframe thead th {\n",
       "        text-align: right;\n",
       "    }\n",
       "</style>\n",
       "<table border=\"1\" class=\"dataframe\">\n",
       "  <thead>\n",
       "    <tr style=\"text-align: right;\">\n",
       "      <th></th>\n",
       "      <th>Null Values</th>\n",
       "      <th>Percentage</th>\n",
       "    </tr>\n",
       "  </thead>\n",
       "  <tbody>\n",
       "  </tbody>\n",
       "</table>\n",
       "</div>"
      ],
      "text/plain": [
       "Empty DataFrame\n",
       "Columns: [Null Values, Percentage]\n",
       "Index: []"
      ]
     },
     "execution_count": 28,
     "metadata": {},
     "output_type": "execute_result"
    }
   ],
   "source": [
    "null_percentages(df)"
   ]
  },
  {
   "cell_type": "code",
   "execution_count": 29,
   "metadata": {},
   "outputs": [
    {
     "data": {
      "text/plain": [
       "(39598, 13)"
      ]
     },
     "execution_count": 29,
     "metadata": {},
     "output_type": "execute_result"
    }
   ],
   "source": [
    "df.shape"
   ]
  },
  {
   "cell_type": "markdown",
   "metadata": {},
   "source": [
    "### Exploratory Data Analysis\n",
    "\n",
    "#### *Category Distribution*"
   ]
  },
  {
   "cell_type": "code",
   "execution_count": 30,
   "metadata": {},
   "outputs": [
    {
     "data": {
      "image/png": "[encoded data removed]",
      "text/plain": [
       "<Figure size 720x432 with 1 Axes>"
      ]
     },
     "metadata": {
      "needs_background": "light"
     },
     "output_type": "display_data"
    }
   ],
   "source": [
    "# Categorical column\n",
    "plt.figure(figsize=(10, 6))\n",
    "sns.countplot(y='Category', \n",
    "              data=df,\n",
    "              order=df['Category'].value_counts().index)\n",
    "plt.title('Distribution of Categories')\n",
    "plt.xlabel('Counts')\n",
    "plt.ylabel('Category')\n",
    "plt.show();"
   ]
  },
  {
   "cell_type": "markdown",
   "metadata": {},
   "source": [
    "**Interpretation**\n",
    "\n",
    "- The top few categories have significantly more products compared to those at the bottom, suggesting that certain categories (like `Fashion` and `Phone & tablets`) are highly populated in your dataset.  \n",
    "- There’s a clear drop-off in frequency as you move down the list, which could indicate that some categories are more popular or that more products have been uploaded for those categories in the e-commerce catalog.\n",
    "\n",
    "**Insights**\n",
    "\n",
    "* *Customer Interest*: The top categories could reflect higher customer interest or demand, as vendors may upload more products in these areas.\n",
    "\n",
    "* *Inventory Planning*: Retailers might focus more on stocking and promoting items in the most frequent categories.\n",
    "* *Recommendation System Focus*: A recommendation system might prioritize building recommendations for these popular categories since they are likely to have more diverse options.\n",
    "\n",
    "#### *Prices Distribution*"
   ]
  },
  {
   "cell_type": "code",
   "execution_count": 31,
   "metadata": {},
   "outputs": [],
   "source": [
    "# Distribution Analysis\n",
    "def plot_distribution(data, title, xlabel, ylabel):\n",
    "    plt.figure(figsize=(10, 6))\n",
    "    sns.histplot(data, bins=20)\n",
    "    plt.title(title)\n",
    "    plt.xlabel(xlabel)\n",
    "    plt.ylabel(ylabel)\n",
    "    plt.show();"
   ]
  },
  {
   "cell_type": "code",
   "execution_count": 32,
   "metadata": {},
   "outputs": [
    {
     "data": {
      "image/png": "[encoded data removed]",
      "text/plain": [
       "<Figure size 720x432 with 1 Axes>"
      ]
     },
     "metadata": {
      "needs_background": "light"
     },
     "output_type": "display_data"
    }
   ],
   "source": [
    "plot_distribution(df['price'], 'Distribution of Prices', 'Price', 'Frequency')"
   ]
  },
  {
   "cell_type": "markdown",
   "metadata": {},
   "source": [
    "**Interpretation and Possible Implications**:\n",
    "\n",
    "* *Imbalanced Dataset*: If you’re building a recommendation or classification system, this imbalance could bias the system towards the dominant category, potentially affecting its effectiveness across less-represented categories.\n",
    "\n",
    "* *Customer Demand or Inventory Bias*: This could indicate a high customer demand for the dominant category, or it could reflect an inventory or data collection bias where most of the available products fall under this single category.\n",
    "\n",
    "This kind of skewed distribution is common in datasets where one category or product type is significantly more popular or frequently added than others. "
   ]
  },
  {
   "cell_type": "code",
   "execution_count": 33,
   "metadata": {},
   "outputs": [
    {
     "name": "stdout",
     "output_type": "stream",
     "text": [
      "Number of outliers: 6206\n",
      "                                            product_name     price\n",
      "42858  LG 75UP7760 75\" UHD 4K HDR WebOS Smart AI Thin...  186000.0\n",
      "50080  Ramtons RF/265 - 527L Side By Side LED Fridge ...  149300.0\n",
      "50079  Ramtons RF/265 - 527L Side By Side LED Fridge ...  149300.0\n",
      "35870  Sony PS5 Playstation 5 Console Standard Editio...  114899.0\n",
      "35871  Sony PS5 Playstation 5 Console Standard Editio...  114899.0\n",
      "...                                                  ...       ...\n",
      "41147  Vitron V527 - 2.1 CH Multimedia Speaker, BT/US...    4999.0\n",
      "41146  Vitron V527 - 2.1 CH Multimedia Speaker, BT/US...    4999.0\n",
      "17859                   Fashion African Wear  Mens Suit.    4999.0\n",
      "17860                   Fashion African Wear  Mens Suit.    4999.0\n",
      "41143  Vitron V527 - 2.1 CH Multimedia Speaker, BT/US...    4999.0\n",
      "\n",
      "[6206 rows x 2 columns]\n"
     ]
    }
   ],
   "source": [
    "# Since price is positively skewed, \n",
    "\n",
    "# Calculate IQR to detect outliers\n",
    "Q1 = df['price'].quantile(0.25)\n",
    "Q3 = df['price'].quantile(0.75)\n",
    "IQR = Q3 - Q1\n",
    "threshold = Q3 + 1.5 * IQR\n",
    "\n",
    "# Identify outliers\n",
    "outliers = df[df['price'] > threshold]\n",
    "\n",
    "print(\"Number of outliers:\", len(outliers))\n",
    "print(outliers[['product_name', 'price']].sort_values(by='price', ascending=False))"
   ]
  },
  {
   "cell_type": "markdown",
   "metadata": {},
   "source": [
    "#### *Top 10 Sub Categories*"
   ]
  },
  {
   "cell_type": "code",
   "execution_count": 34,
   "metadata": {},
   "outputs": [
    {
     "data": {
      "text/plain": [
       "sub_category\n",
       "mobile-accessories                        1806\n",
       "mobile-phones                             1382\n",
       "smartphones                               1099\n",
       "computer-accessories                       838\n",
       "audio-video-accessories                    806\n",
       "                                          ... \n",
       "sports-nutrition-testosterone-boosters       2\n",
       "compact-radios-stereos-boomboxes             2\n",
       "skin-care-sets-kits                          1\n",
       "baby-nursery-mattresses                      1\n",
       "motorcycle-powersports                       1\n",
       "Name: count, Length: 204, dtype: int64"
      ]
     },
     "execution_count": 34,
     "metadata": {},
     "output_type": "execute_result"
    }
   ],
   "source": [
    "# Analyze the distribution of items across different subcategories\n",
    "\n",
    "subcategory_counts = df['sub_category'].value_counts()\n",
    "\n",
    "subcategory_counts"
   ]
  },
  {
   "cell_type": "code",
   "execution_count": 35,
   "metadata": {},
   "outputs": [
    {
     "data": {
      "image/png": "[encoded data removed]",
      "text/plain": [
       "<Figure size 720x432 with 1 Axes>"
      ]
     },
     "metadata": {
      "needs_background": "light"
     },
     "output_type": "display_data"
    }
   ],
   "source": [
    "# Get the top 10 subcategories in descending order\n",
    "top_10_subcategories = subcategory_counts.head(10)\n",
    "\n",
    "# Plot the horizontal bar chart\n",
    "plt.figure(figsize=(10, 6))\n",
    "sns.barplot(x=top_10_subcategories.values, y=top_10_subcategories.index, palette='viridis')\n",
    "plt.title('Top 10 Subcategories')\n",
    "plt.xlabel('Counts')\n",
    "plt.ylabel('Subcategory')\n",
    "plt.show();"
   ]
  },
  {
   "cell_type": "markdown",
   "metadata": {},
   "source": [
    "**Potential Insights**\n",
    "\n",
    "* *Customer Interest or Inventory Focus*: the top subcategories likely represent popular product types, high customer demand, or a focus on certain items.\n",
    "\n",
    "#### *Bottom 10 Sub Categories*"
   ]
  },
  {
   "cell_type": "code",
   "execution_count": 36,
   "metadata": {},
   "outputs": [
    {
     "data": {
      "image/png": "[encoded data removed]",
      "text/plain": [
       "<Figure size 720x432 with 1 Axes>"
      ]
     },
     "metadata": {
      "needs_background": "light"
     },
     "output_type": "display_data"
    }
   ],
   "source": [
    "# Get the top 10 subcategories in descending order and then reverse them for ascending order\n",
    "bottom_10_subcategories = subcategory_counts.tail(10).iloc[::-1]\n",
    "\n",
    "# Plot the horizontal bar chart\n",
    "plt.figure(figsize=(10, 6))\n",
    "sns.barplot(x=bottom_10_subcategories.values, y=bottom_10_subcategories.index, palette='viridis')\n",
    "plt.title('Less Frequent Subcategories')\n",
    "plt.xlabel('Counts')\n",
    "plt.ylabel('Subcategory')\n",
    "plt.show();"
   ]
  },
  {
   "cell_type": "markdown",
   "metadata": {},
   "source": [
    "The above plot shows less frequent sub-categories potentially indicating lower popularity or inventory for these items.\n",
    "\n",
    "#### *Users*"
   ]
  },
  {
   "cell_type": "code",
   "execution_count": 37,
   "metadata": {},
   "outputs": [
    {
     "data": {
      "image/png": "[encoded data removed]",
      "text/plain": [
       "<Figure size 720x432 with 1 Axes>"
      ]
     },
     "metadata": {
      "needs_background": "light"
     },
     "output_type": "display_data"
    }
   ],
   "source": [
    "# Filter out 'No name' entries from the user_name column\n",
    "filtered_users = df[df['user_name'] != 'No name']\n",
    "\n",
    "# Get the top 10 users by count\n",
    "top_10_users = filtered_users['user_name'].value_counts().head(10)\n",
    "    \n",
    "# Plot the vertical bar chart for the top 10 users\n",
    "plt.figure(figsize=(10, 6))\n",
    "ax = sns.barplot(x=top_10_users.index, y=top_10_users.values, palette='viridis')\n",
    "# Annotate the bars with the count values\n",
    "for i, value in enumerate(top_10_users.values):\n",
    "    ax.text(i, value + 0.5, str(value), ha='center', va='bottom', fontsize=12)\n",
    "plt.title('Top 10 Users (Excluding \"No name\")')\n",
    "plt.xlabel('Users')\n",
    "plt.ylabel('Counts')\n",
    "plt.xticks(rotation=45)  # Rotate x labels for better readability\n",
    "plt.show();"
   ]
  },
  {
   "cell_type": "markdown",
   "metadata": {},
   "source": [
    "**User Engagement**:\n",
    "\n",
    "This distribution suggests that a few users are significantly more engaged than others in providing feedback. These top users are repeat customers or highly active reviewers who frequently purchase and leave feedback on products.\n",
    "\n",
    "#### *Ratings*"
   ]
  },
  {
   "cell_type": "code",
   "execution_count": 38,
   "metadata": {},
   "outputs": [
    {
     "data": {
      "image/png": "[encoded data removed]",
      "text/plain": [
       "<Figure size 720x432 with 1 Axes>"
      ]
     },
     "metadata": {
      "needs_background": "light"
     },
     "output_type": "display_data"
    }
   ],
   "source": [
    "# Calculate the average rating for each category\n",
    "category_average_ratings = df.groupby('Category')['ratings'].mean()\n",
    "\n",
    "# Sort the categories by average rating and get the top 10\n",
    "ratings = category_average_ratings.sort_values(ascending=False).head(10)\n",
    "# Plot the results\n",
    "plt.figure(figsize=(10, 6))\n",
    "sns.barplot(x=ratings.values, y=ratings.index, palette='viridis')\n",
    "plt.title('Top 10 Categories by Average Rating')\n",
    "plt.xlabel('Average Rating')\n",
    "plt.ylabel('Category')\n",
    "plt.show();"
   ]
  },
  {
   "cell_type": "markdown",
   "metadata": {},
   "source": [
    "**Highest-Rated Category**: The first bar, `Baby products` followed closed by `Accessories`, represents the categories with the highest average rating. This suggests that customers are most satisfied with products in these categories, which might indicate superior product quality or customer satisfaction in those categories.\n",
    "\n",
    "#### *Rating Count*"
   ]
  },
  {
   "cell_type": "code",
   "execution_count": 39,
   "metadata": {},
   "outputs": [
    {
     "data": {
      "image/png": "[encoded data removed]",
      "text/plain": [
       "<Figure size 720x432 with 1 Axes>"
      ]
     },
     "metadata": {
      "needs_background": "light"
     },
     "output_type": "display_data"
    }
   ],
   "source": [
    "# Filter out ratings of 0\n",
    "filtered_ratings = df[df['ratings'] > 0]['ratings'].value_counts().sort_index()\n",
    "\n",
    "# Plot vertical bar chart for filtered ratings count\n",
    "plt.figure(figsize=(10, 6))\n",
    "ax = sns.barplot(x=filtered_ratings.index, y=filtered_ratings.values, palette='viridis')\n",
    "\n",
    "# Annotate the bars with the count values\n",
    "for i, value in enumerate(filtered_ratings.values):\n",
    "    ax.text(i, value + 0.5, str(value), ha='center', va='bottom', fontsize=12)\n",
    "\n",
    "plt.title('Rating Count (Excluding 0)')\n",
    "plt.xlabel('Rating')\n",
    "plt.ylabel('Counts')\n",
    "plt.show();"
   ]
  },
  {
   "cell_type": "markdown",
   "metadata": {},
   "source": [
    "From the above plot, we can see that **5** is the most rating used by the website users followed by **4** which is a clear indication majority of the products are satisfying and pleasing to the buyers.\n",
    "\n",
    "#### *Price vs Ratings*"
   ]
  },
  {
   "cell_type": "code",
   "execution_count": 40,
   "metadata": {},
   "outputs": [
    {
     "data": {
      "image/png": "[encoded data removed]",
      "text/plain": [
       "<Figure size 720x432 with 1 Axes>"
      ]
     },
     "metadata": {
      "needs_background": "light"
     },
     "output_type": "display_data"
    }
   ],
   "source": [
    "# Filter out rows where ratings are 0\n",
    "filtered_df = df[df['ratings'] > 0]\n",
    "\n",
    "# Scatter plot of price vs. ratings (excluding 0 ratings)\n",
    "plt.figure(figsize=(10, 6))\n",
    "sns.scatterplot(x=filtered_df['price'], y=filtered_df['ratings'])\n",
    "plt.title('Price vs. Ratings (Excluding 0 Ratings)')\n",
    "plt.xlabel('Price')\n",
    "plt.ylabel('Ratings')\n",
    "plt.show();"
   ]
  },
  {
   "cell_type": "markdown",
   "metadata": {},
   "source": [
    "This scatter plot shows that:\n",
    "\n",
    "* Products have a broad range of prices for each rating level.\n",
    "* Higher ratings (3 to 5) are more frequent than lower ratings (1 or 2).\n",
    "* There’s no direct correlation between price and rating based on this visual.\n",
    "\n",
    "#### *Product branding*"
   ]
  },
  {
   "cell_type": "code",
   "execution_count": 41,
   "metadata": {},
   "outputs": [
    {
     "data": {
      "image/png": "[encoded data removed]",
      "text/plain": [
       "<Figure size 720x432 with 1 Axes>"
      ]
     },
     "metadata": {
      "needs_background": "light"
     },
     "output_type": "display_data"
    }
   ],
   "source": [
    "# Get the product branding by count\n",
    "product_brands = df['brand'].value_counts().head(10)\n",
    "    \n",
    "# Plot the vertical bar chart for the product branding\n",
    "plt.figure(figsize=(10, 6))\n",
    "ax = sns.barplot(x=product_brands.index, y=product_brands.values, palette='viridis')\n",
    "# Annotate the bars with the count values\n",
    "for i, value in enumerate(product_brands.values):\n",
    "    ax.text(i, value + 0.5, str(value), ha='center', va='bottom', fontsize=12)\n",
    "plt.title('Product brands')\n",
    "plt.xlabel('brands')\n",
    "plt.ylabel('Counts')\n",
    "plt.xticks(rotation=45)  # Rotate x labels for better readability\n",
    "plt.show();"
   ]
  },
  {
   "cell_type": "markdown",
   "metadata": {},
   "source": [
    "From the above output, it is evident that majority of product's brands are not indicated in the Jumia website but for best analytical visualization we collectively gave the product's brand placeholder `Uknown`. Most of the `Fashion` seems to be branded. There is a challenge in indicating the product's brand in the website that would help site users in knowing the product brands.\n",
    "\n",
    "#### *Frequently Listed Products*"
   ]
  },
  {
   "cell_type": "code",
   "execution_count": 42,
   "metadata": {},
   "outputs": [
    {
     "data": {
      "image/png": "[encoded data removed]",
      "text/plain": [
       "<Figure size 720x432 with 1 Axes>"
      ]
     },
     "metadata": {
      "needs_background": "light"
     },
     "output_type": "display_data"
    }
   ],
   "source": [
    "# Analyzing the most frequently listed products\n",
    "plt.figure(figsize=(10, 6))\n",
    "top_products = df['product_name'].value_counts().head(10)\n",
    "sns.barplot(x=top_products.values, y=top_products.index, palette='viridis')\n",
    "plt.title('Top 10 Most Popular Products')\n",
    "plt.xlabel('Number of Listings')\n",
    "plt.ylabel('Product')\n",
    "plt.show();"
   ]
  },
  {
   "cell_type": "markdown",
   "metadata": {},
   "source": [
    "**Insights**:\n",
    "\n",
    "* Top Product: The product with the longest bar is the most popular, possibly indicating it is a bestseller or highly favored among customers.\n",
    "* Less Popular Products: The products with shorter bars are less popular, which might indicate lower sales or reduced customer preference.\n",
    "\n",
    "### Data Preprocessing"
   ]
  },
  {
   "cell_type": "code",
   "execution_count": 43,
   "metadata": {},
   "outputs": [
    {
     "data": {
      "text/html": [
       "<div>\n",
       "<style scoped>\n",
       "    .dataframe tbody tr th:only-of-type {\n",
       "        vertical-align: middle;\n",
       "    }\n",
       "\n",
       "    .dataframe tbody tr th {\n",
       "        vertical-align: top;\n",
       "    }\n",
       "\n",
       "    .dataframe thead th {\n",
       "        text-align: right;\n",
       "    }\n",
       "</style>\n",
       "<table border=\"1\" class=\"dataframe\">\n",
       "  <thead>\n",
       "    <tr style=\"text-align: right;\">\n",
       "      <th></th>\n",
       "      <th>web-scraper-order</th>\n",
       "      <th>product_name</th>\n",
       "      <th>image</th>\n",
       "      <th>price</th>\n",
       "      <th>brand</th>\n",
       "      <th>review_title</th>\n",
       "      <th>review</th>\n",
       "      <th>ratings</th>\n",
       "      <th>user_name</th>\n",
       "      <th>Category</th>\n",
       "      <th>sub_category</th>\n",
       "      <th>overall_ratings</th>\n",
       "      <th>ratings_count</th>\n",
       "    </tr>\n",
       "  </thead>\n",
       "  <tbody>\n",
       "    <tr>\n",
       "      <th>1</th>\n",
       "      <td>1730407112-2</td>\n",
       "      <td>9\"-17\" Laptop Cooling Stand Pad</td>\n",
       "      <td>https://ke.jumia.is/unsafe/fit-in/680x680/filt...</td>\n",
       "      <td>3325.0</td>\n",
       "      <td>Unknown</td>\n",
       "      <td>OKAY</td>\n",
       "      <td>Working, feels cheap</td>\n",
       "      <td>3.0</td>\n",
       "      <td>WILFRED</td>\n",
       "      <td>Computing</td>\n",
       "      <td>computer-accessories</td>\n",
       "      <td>4.1</td>\n",
       "      <td>7.0</td>\n",
       "    </tr>\n",
       "    <tr>\n",
       "      <th>2</th>\n",
       "      <td>1730407112-3</td>\n",
       "      <td>9\"-17\" Laptop Cooling Stand Pad</td>\n",
       "      <td>https://ke.jumia.is/unsafe/fit-in/680x680/filt...</td>\n",
       "      <td>3325.0</td>\n",
       "      <td>Unknown</td>\n",
       "      <td>okay</td>\n",
       "      <td>A bit big for a regular laptop bag... The fanc...</td>\n",
       "      <td>4.0</td>\n",
       "      <td>Michael</td>\n",
       "      <td>Computing</td>\n",
       "      <td>computer-accessories</td>\n",
       "      <td>4.1</td>\n",
       "      <td>7.0</td>\n",
       "    </tr>\n",
       "    <tr>\n",
       "      <th>29</th>\n",
       "      <td>1730407173-30</td>\n",
       "      <td>Toshiba High Speed Micro SD Memory Card</td>\n",
       "      <td>https://ke.jumia.is/unsafe/fit-in/680x680/filt...</td>\n",
       "      <td>803.0</td>\n",
       "      <td>Toshiba</td>\n",
       "      <td>good</td>\n",
       "      <td>genuine</td>\n",
       "      <td>4.0</td>\n",
       "      <td>your name</td>\n",
       "      <td>Computing</td>\n",
       "      <td>computer-accessories</td>\n",
       "      <td>4.7</td>\n",
       "      <td>3.0</td>\n",
       "    </tr>\n",
       "    <tr>\n",
       "      <th>30</th>\n",
       "      <td>1730407177-31</td>\n",
       "      <td>Lenovo Laptop Charger For Lenovo ThinkPad Yoga...</td>\n",
       "      <td>https://ke.jumia.is/unsafe/fit-in/680x680/filt...</td>\n",
       "      <td>4157.0</td>\n",
       "      <td>Lenovo</td>\n",
       "      <td>I like it</td>\n",
       "      <td>It worked out well</td>\n",
       "      <td>1.0</td>\n",
       "      <td>Bathsheba</td>\n",
       "      <td>Computing</td>\n",
       "      <td>computer-accessories</td>\n",
       "      <td>4</td>\n",
       "      <td>4.0</td>\n",
       "    </tr>\n",
       "    <tr>\n",
       "      <th>37</th>\n",
       "      <td>1730407197-38</td>\n",
       "      <td>Safaricom, Airtel &amp; Telkom -4G/3G Universal Modem</td>\n",
       "      <td>https://ke.jumia.is/unsafe/fit-in/680x680/filt...</td>\n",
       "      <td>2600.0</td>\n",
       "      <td>Unknown</td>\n",
       "      <td>Works well</td>\n",
       "      <td>So far so good...</td>\n",
       "      <td>5.0</td>\n",
       "      <td>Ngarachu</td>\n",
       "      <td>Computing</td>\n",
       "      <td>computer-accessories</td>\n",
       "      <td>6003.7</td>\n",
       "      <td>86.0</td>\n",
       "    </tr>\n",
       "  </tbody>\n",
       "</table>\n",
       "</div>"
      ],
      "text/plain": [
       "   web-scraper-order                                       product_name  \\\n",
       "1       1730407112-2                    9\"-17\" Laptop Cooling Stand Pad   \n",
       "2       1730407112-3                    9\"-17\" Laptop Cooling Stand Pad   \n",
       "29     1730407173-30            Toshiba High Speed Micro SD Memory Card   \n",
       "30     1730407177-31  Lenovo Laptop Charger For Lenovo ThinkPad Yoga...   \n",
       "37     1730407197-38  Safaricom, Airtel & Telkom -4G/3G Universal Modem   \n",
       "\n",
       "                                                image   price    brand  \\\n",
       "1   https://ke.jumia.is/unsafe/fit-in/680x680/filt...  3325.0  Unknown   \n",
       "2   https://ke.jumia.is/unsafe/fit-in/680x680/filt...  3325.0  Unknown   \n",
       "29  https://ke.jumia.is/unsafe/fit-in/680x680/filt...   803.0  Toshiba   \n",
       "30  https://ke.jumia.is/unsafe/fit-in/680x680/filt...  4157.0   Lenovo   \n",
       "37  https://ke.jumia.is/unsafe/fit-in/680x680/filt...  2600.0  Unknown   \n",
       "\n",
       "   review_title                                             review  ratings  \\\n",
       "1          OKAY                               Working, feels cheap      3.0   \n",
       "2          okay  A bit big for a regular laptop bag... The fanc...      4.0   \n",
       "29         good                                            genuine      4.0   \n",
       "30    I like it                                 It worked out well      1.0   \n",
       "37   Works well                                  So far so good...      5.0   \n",
       "\n",
       "     user_name   Category          sub_category overall_ratings  ratings_count  \n",
       "1      WILFRED  Computing  computer-accessories             4.1            7.0  \n",
       "2      Michael  Computing  computer-accessories             4.1            7.0  \n",
       "29   your name  Computing  computer-accessories             4.7            3.0  \n",
       "30   Bathsheba  Computing  computer-accessories               4            4.0  \n",
       "37    Ngarachu  Computing  computer-accessories          6003.7           86.0  "
      ]
     },
     "execution_count": 43,
     "metadata": {},
     "output_type": "execute_result"
    }
   ],
   "source": [
    "df.head()"
   ]
  },
  {
   "cell_type": "code",
   "execution_count": 44,
   "metadata": {},
   "outputs": [
    {
     "name": "stdout",
     "output_type": "stream",
     "text": [
      "<class 'pandas.core.frame.DataFrame'>\n",
      "Index: 39598 entries, 1 to 60463\n",
      "Data columns (total 13 columns):\n",
      " #   Column             Non-Null Count  Dtype  \n",
      "---  ------             --------------  -----  \n",
      " 0   web-scraper-order  39598 non-null  object \n",
      " 1   product_name       39598 non-null  object \n",
      " 2   image              39598 non-null  object \n",
      " 3   price              39598 non-null  float64\n",
      " 4   brand              39598 non-null  object \n",
      " 5   review_title       39598 non-null  object \n",
      " 6   review             39598 non-null  object \n",
      " 7   ratings            39598 non-null  float64\n",
      " 8   user_name          39598 non-null  object \n",
      " 9   Category           39598 non-null  object \n",
      " 10  sub_category       39598 non-null  object \n",
      " 11  overall_ratings    39598 non-null  object \n",
      " 12  ratings_count      39598 non-null  float64\n",
      "dtypes: float64(3), object(10)\n",
      "memory usage: 4.2+ MB\n"
     ]
    }
   ],
   "source": [
    "df.info()"
   ]
  },
  {
   "cell_type": "code",
   "execution_count": 45,
   "metadata": {},
   "outputs": [
    {
     "data": {
      "text/html": [
       "<div>\n",
       "<style scoped>\n",
       "    .dataframe tbody tr th:only-of-type {\n",
       "        vertical-align: middle;\n",
       "    }\n",
       "\n",
       "    .dataframe tbody tr th {\n",
       "        vertical-align: top;\n",
       "    }\n",
       "\n",
       "    .dataframe thead th {\n",
       "        text-align: right;\n",
       "    }\n",
       "</style>\n",
       "<table border=\"1\" class=\"dataframe\">\n",
       "  <thead>\n",
       "    <tr style=\"text-align: right;\">\n",
       "      <th></th>\n",
       "      <th>product_name</th>\n",
       "      <th>price</th>\n",
       "      <th>brand</th>\n",
       "      <th>review</th>\n",
       "      <th>ratings</th>\n",
       "      <th>user_name</th>\n",
       "      <th>Category</th>\n",
       "      <th>sub_category</th>\n",
       "    </tr>\n",
       "  </thead>\n",
       "  <tbody>\n",
       "    <tr>\n",
       "      <th>1</th>\n",
       "      <td>9\"-17\" Laptop Cooling Stand Pad</td>\n",
       "      <td>3325.0</td>\n",
       "      <td>Unknown</td>\n",
       "      <td>Working, feels cheap</td>\n",
       "      <td>3.0</td>\n",
       "      <td>WILFRED</td>\n",
       "      <td>Computing</td>\n",
       "      <td>computer-accessories</td>\n",
       "    </tr>\n",
       "    <tr>\n",
       "      <th>2</th>\n",
       "      <td>9\"-17\" Laptop Cooling Stand Pad</td>\n",
       "      <td>3325.0</td>\n",
       "      <td>Unknown</td>\n",
       "      <td>A bit big for a regular laptop bag... The fanc...</td>\n",
       "      <td>4.0</td>\n",
       "      <td>Michael</td>\n",
       "      <td>Computing</td>\n",
       "      <td>computer-accessories</td>\n",
       "    </tr>\n",
       "    <tr>\n",
       "      <th>29</th>\n",
       "      <td>Toshiba High Speed Micro SD Memory Card</td>\n",
       "      <td>803.0</td>\n",
       "      <td>Toshiba</td>\n",
       "      <td>genuine</td>\n",
       "      <td>4.0</td>\n",
       "      <td>your name</td>\n",
       "      <td>Computing</td>\n",
       "      <td>computer-accessories</td>\n",
       "    </tr>\n",
       "    <tr>\n",
       "      <th>30</th>\n",
       "      <td>Lenovo Laptop Charger For Lenovo ThinkPad Yoga...</td>\n",
       "      <td>4157.0</td>\n",
       "      <td>Lenovo</td>\n",
       "      <td>It worked out well</td>\n",
       "      <td>1.0</td>\n",
       "      <td>Bathsheba</td>\n",
       "      <td>Computing</td>\n",
       "      <td>computer-accessories</td>\n",
       "    </tr>\n",
       "    <tr>\n",
       "      <th>37</th>\n",
       "      <td>Safaricom, Airtel &amp; Telkom -4G/3G Universal Modem</td>\n",
       "      <td>2600.0</td>\n",
       "      <td>Unknown</td>\n",
       "      <td>So far so good...</td>\n",
       "      <td>5.0</td>\n",
       "      <td>Ngarachu</td>\n",
       "      <td>Computing</td>\n",
       "      <td>computer-accessories</td>\n",
       "    </tr>\n",
       "  </tbody>\n",
       "</table>\n",
       "</div>"
      ],
      "text/plain": [
       "                                         product_name   price    brand  \\\n",
       "1                     9\"-17\" Laptop Cooling Stand Pad  3325.0  Unknown   \n",
       "2                     9\"-17\" Laptop Cooling Stand Pad  3325.0  Unknown   \n",
       "29            Toshiba High Speed Micro SD Memory Card   803.0  Toshiba   \n",
       "30  Lenovo Laptop Charger For Lenovo ThinkPad Yoga...  4157.0   Lenovo   \n",
       "37  Safaricom, Airtel & Telkom -4G/3G Universal Modem  2600.0  Unknown   \n",
       "\n",
       "                                               review  ratings   user_name  \\\n",
       "1                                Working, feels cheap      3.0     WILFRED   \n",
       "2   A bit big for a regular laptop bag... The fanc...      4.0     Michael   \n",
       "29                                            genuine      4.0   your name   \n",
       "30                                 It worked out well      1.0   Bathsheba   \n",
       "37                                  So far so good...      5.0    Ngarachu   \n",
       "\n",
       "     Category          sub_category  \n",
       "1   Computing  computer-accessories  \n",
       "2   Computing  computer-accessories  \n",
       "29  Computing  computer-accessories  \n",
       "30  Computing  computer-accessories  \n",
       "37  Computing  computer-accessories  "
      ]
     },
     "execution_count": 45,
     "metadata": {},
     "output_type": "execute_result"
    }
   ],
   "source": [
    "df1 = df.copy()\n",
    "\n",
    "df1.drop(['web-scraper-order', 'image', 'review_title', 'overall_ratings', 'ratings_count'], axis=1, inplace=True)\n",
    "\n",
    "df1.head()"
   ]
  },
  {
   "cell_type": "markdown",
   "metadata": {},
   "source": [
    "### Sentiment Analysis"
   ]
  },
  {
   "cell_type": "code",
   "execution_count": 46,
   "metadata": {},
   "outputs": [],
   "source": [
    "def map_sentiment(rating):\n",
    "    if rating >= 4:\n",
    "        return 'Positive'\n",
    "    elif rating == 3:\n",
    "        return 'Neutral'\n",
    "    else:\n",
    "        return 'Negative'"
   ]
  },
  {
   "cell_type": "code",
   "execution_count": 47,
   "metadata": {},
   "outputs": [],
   "source": [
    "# Applying the function to the ratings column to create a new sentiment column\n",
    "df1['sentiment'] = df1['ratings'].apply(map_sentiment)"
   ]
  },
  {
   "cell_type": "markdown",
   "metadata": {},
   "source": [
    "#### *Sentiment Distribution*"
   ]
  },
  {
   "cell_type": "code",
   "execution_count": 48,
   "metadata": {},
   "outputs": [
    {
     "data": {
      "text/plain": [
       "sentiment\n",
       "Positive    28105\n",
       "Negative     8040\n",
       "Neutral      3453\n",
       "Name: count, dtype: int64"
      ]
     },
     "execution_count": 48,
     "metadata": {},
     "output_type": "execute_result"
    }
   ],
   "source": [
    "# Checking the count of each sentiment category\n",
    "sentiment_counts = df1['sentiment'].value_counts()\n",
    "\n",
    "sentiment_counts"
   ]
  },
  {
   "cell_type": "code",
   "execution_count": 49,
   "metadata": {},
   "outputs": [
    {
     "data": {
      "image/png": "[encoded data removed]",
      "text/plain": [
       "<Figure size 576x432 with 1 Axes>"
      ]
     },
     "metadata": {
      "needs_background": "light"
     },
     "output_type": "display_data"
    }
   ],
   "source": [
    "plt.figure(figsize=(8, 6))\n",
    "sns.countplot(data=df1, x='sentiment', order=['Positive', 'Neutral', 'Negative'])\n",
    "plt.title('Sentiment Distribution')\n",
    "plt.xlabel('Sentiment')\n",
    "plt.ylabel('Frequency')\n",
    "plt.show();"
   ]
  },
  {
   "cell_type": "code",
   "execution_count": 50,
   "metadata": {},
   "outputs": [
    {
     "name": "stdout",
     "output_type": "stream",
     "text": [
      "sentiment          Negative   Neutral  Positive\n",
      "Category                                       \n",
      "Accessories        0.173535  0.076611  0.749855\n",
      "Baby products      0.151976  0.087470  0.760554\n",
      "Computing          0.211488  0.070606  0.717907\n",
      "Fashion            0.219785  0.096452  0.683763\n",
      "Phones & tablets   0.192462  0.102000  0.705538\n",
      "Radios             0.323529  0.058824  0.617647\n",
      "Speakers           0.248941  0.088983  0.662076\n",
      "Televisions        0.199052  0.052133  0.748815\n",
      "appliances         0.219771  0.073257  0.706973\n",
      "health and beauty  0.189260  0.075517  0.735223\n",
      "home products      0.266744  0.099592  0.633663\n",
      "office products    0.190865  0.083197  0.725938\n",
      "other_categories   0.191026  0.094872  0.714103\n",
      "sporting_goods     0.167568  0.098198  0.734234\n"
     ]
    }
   ],
   "source": [
    "# Grouping by Category to see sentiment counts per category\n",
    "category_sentiment = df1.groupby('Category')['sentiment'].value_counts(normalize=True).unstack()\n",
    "print(category_sentiment)"
   ]
  },
  {
   "cell_type": "markdown",
   "metadata": {},
   "source": [
    "#### *Sentiment by Category*"
   ]
  },
  {
   "cell_type": "code",
   "execution_count": 51,
   "metadata": {},
   "outputs": [
    {
     "data": {
      "image/png": "[encoded data removed]",
      "text/plain": [
       "<Figure size 720x432 with 1 Axes>"
      ]
     },
     "metadata": {
      "needs_background": "light"
     },
     "output_type": "display_data"
    }
   ],
   "source": [
    "# Stacked bar chart for sentiment by category\n",
    "category_sentiment.plot(kind='bar', stacked=True, figsize=(10, 6), colormap=\"viridis\")\n",
    "plt.title(\"Sentiment Distribution by Product Category\")\n",
    "plt.xlabel(\"Category\")\n",
    "plt.ylabel(\"Proportion of Sentiment\")\n",
    "plt.legend(title=\"Sentiment\")\n",
    "plt.show();"
   ]
  },
  {
   "cell_type": "code",
   "execution_count": 52,
   "metadata": {},
   "outputs": [
    {
     "data": {
      "text/html": [
       "<div>\n",
       "<style scoped>\n",
       "    .dataframe tbody tr th:only-of-type {\n",
       "        vertical-align: middle;\n",
       "    }\n",
       "\n",
       "    .dataframe tbody tr th {\n",
       "        vertical-align: top;\n",
       "    }\n",
       "\n",
       "    .dataframe thead th {\n",
       "        text-align: right;\n",
       "    }\n",
       "</style>\n",
       "<table border=\"1\" class=\"dataframe\">\n",
       "  <thead>\n",
       "    <tr style=\"text-align: right;\">\n",
       "      <th></th>\n",
       "      <th>product_name</th>\n",
       "      <th>price</th>\n",
       "      <th>brand</th>\n",
       "      <th>review</th>\n",
       "      <th>ratings</th>\n",
       "      <th>user_name</th>\n",
       "      <th>Category</th>\n",
       "      <th>sub_category</th>\n",
       "      <th>sentiment</th>\n",
       "    </tr>\n",
       "  </thead>\n",
       "  <tbody>\n",
       "    <tr>\n",
       "      <th>1</th>\n",
       "      <td>9\"-17\" Laptop Cooling Stand Pad</td>\n",
       "      <td>3325.0</td>\n",
       "      <td>Unknown</td>\n",
       "      <td>Working, feels cheap</td>\n",
       "      <td>3.0</td>\n",
       "      <td>WILFRED</td>\n",
       "      <td>Computing</td>\n",
       "      <td>computer-accessories</td>\n",
       "      <td>Neutral</td>\n",
       "    </tr>\n",
       "    <tr>\n",
       "      <th>2</th>\n",
       "      <td>9\"-17\" Laptop Cooling Stand Pad</td>\n",
       "      <td>3325.0</td>\n",
       "      <td>Unknown</td>\n",
       "      <td>A bit big for a regular laptop bag... The fanc...</td>\n",
       "      <td>4.0</td>\n",
       "      <td>Michael</td>\n",
       "      <td>Computing</td>\n",
       "      <td>computer-accessories</td>\n",
       "      <td>Positive</td>\n",
       "    </tr>\n",
       "    <tr>\n",
       "      <th>29</th>\n",
       "      <td>Toshiba High Speed Micro SD Memory Card</td>\n",
       "      <td>803.0</td>\n",
       "      <td>Toshiba</td>\n",
       "      <td>genuine</td>\n",
       "      <td>4.0</td>\n",
       "      <td>your name</td>\n",
       "      <td>Computing</td>\n",
       "      <td>computer-accessories</td>\n",
       "      <td>Positive</td>\n",
       "    </tr>\n",
       "    <tr>\n",
       "      <th>30</th>\n",
       "      <td>Lenovo Laptop Charger For Lenovo ThinkPad Yoga...</td>\n",
       "      <td>4157.0</td>\n",
       "      <td>Lenovo</td>\n",
       "      <td>It worked out well</td>\n",
       "      <td>1.0</td>\n",
       "      <td>Bathsheba</td>\n",
       "      <td>Computing</td>\n",
       "      <td>computer-accessories</td>\n",
       "      <td>Negative</td>\n",
       "    </tr>\n",
       "    <tr>\n",
       "      <th>37</th>\n",
       "      <td>Safaricom, Airtel &amp; Telkom -4G/3G Universal Modem</td>\n",
       "      <td>2600.0</td>\n",
       "      <td>Unknown</td>\n",
       "      <td>So far so good...</td>\n",
       "      <td>5.0</td>\n",
       "      <td>Ngarachu</td>\n",
       "      <td>Computing</td>\n",
       "      <td>computer-accessories</td>\n",
       "      <td>Positive</td>\n",
       "    </tr>\n",
       "  </tbody>\n",
       "</table>\n",
       "</div>"
      ],
      "text/plain": [
       "                                         product_name   price    brand  \\\n",
       "1                     9\"-17\" Laptop Cooling Stand Pad  3325.0  Unknown   \n",
       "2                     9\"-17\" Laptop Cooling Stand Pad  3325.0  Unknown   \n",
       "29            Toshiba High Speed Micro SD Memory Card   803.0  Toshiba   \n",
       "30  Lenovo Laptop Charger For Lenovo ThinkPad Yoga...  4157.0   Lenovo   \n",
       "37  Safaricom, Airtel & Telkom -4G/3G Universal Modem  2600.0  Unknown   \n",
       "\n",
       "                                               review  ratings   user_name  \\\n",
       "1                                Working, feels cheap      3.0     WILFRED   \n",
       "2   A bit big for a regular laptop bag... The fanc...      4.0     Michael   \n",
       "29                                            genuine      4.0   your name   \n",
       "30                                 It worked out well      1.0   Bathsheba   \n",
       "37                                  So far so good...      5.0    Ngarachu   \n",
       "\n",
       "     Category          sub_category sentiment  \n",
       "1   Computing  computer-accessories   Neutral  \n",
       "2   Computing  computer-accessories  Positive  \n",
       "29  Computing  computer-accessories  Positive  \n",
       "30  Computing  computer-accessories  Negative  \n",
       "37  Computing  computer-accessories  Positive  "
      ]
     },
     "execution_count": 52,
     "metadata": {},
     "output_type": "execute_result"
    }
   ],
   "source": [
    "df1.head()"
   ]
  },
  {
   "cell_type": "code",
   "execution_count": 53,
   "metadata": {},
   "outputs": [
    {
     "data": {
      "text/html": [
       "<div>\n",
       "<style scoped>\n",
       "    .dataframe tbody tr th:only-of-type {\n",
       "        vertical-align: middle;\n",
       "    }\n",
       "\n",
       "    .dataframe tbody tr th {\n",
       "        vertical-align: top;\n",
       "    }\n",
       "\n",
       "    .dataframe thead th {\n",
       "        text-align: right;\n",
       "    }\n",
       "</style>\n",
       "<table border=\"1\" class=\"dataframe\">\n",
       "  <thead>\n",
       "    <tr style=\"text-align: right;\">\n",
       "      <th></th>\n",
       "      <th>review</th>\n",
       "      <th>sentiment</th>\n",
       "    </tr>\n",
       "  </thead>\n",
       "  <tbody>\n",
       "    <tr>\n",
       "      <th>1</th>\n",
       "      <td>Working, feels cheap</td>\n",
       "      <td>Neutral</td>\n",
       "    </tr>\n",
       "    <tr>\n",
       "      <th>2</th>\n",
       "      <td>A bit big for a regular laptop bag... The fanc...</td>\n",
       "      <td>Positive</td>\n",
       "    </tr>\n",
       "    <tr>\n",
       "      <th>29</th>\n",
       "      <td>genuine</td>\n",
       "      <td>Positive</td>\n",
       "    </tr>\n",
       "    <tr>\n",
       "      <th>30</th>\n",
       "      <td>It worked out well</td>\n",
       "      <td>Negative</td>\n",
       "    </tr>\n",
       "    <tr>\n",
       "      <th>37</th>\n",
       "      <td>So far so good...</td>\n",
       "      <td>Positive</td>\n",
       "    </tr>\n",
       "  </tbody>\n",
       "</table>\n",
       "</div>"
      ],
      "text/plain": [
       "                                               review sentiment\n",
       "1                                Working, feels cheap   Neutral\n",
       "2   A bit big for a regular laptop bag... The fanc...  Positive\n",
       "29                                            genuine  Positive\n",
       "30                                 It worked out well  Negative\n",
       "37                                  So far so good...  Positive"
      ]
     },
     "execution_count": 53,
     "metadata": {},
     "output_type": "execute_result"
    }
   ],
   "source": [
    "df2 = df1[['review', 'sentiment']]\n",
    "\n",
    "df2.head()"
   ]
  },
  {
   "cell_type": "code",
   "execution_count": 54,
   "metadata": {},
   "outputs": [],
   "source": [
    "review = df2['review']"
   ]
  },
  {
   "cell_type": "code",
   "execution_count": 55,
   "metadata": {},
   "outputs": [
    {
     "name": "stderr",
     "output_type": "stream",
     "text": [
      "[nltk_data] Downloading package punkt to\n",
      "[nltk_data]     C:\\Users\\Brian\\AppData\\Roaming\\nltk_data...\n",
      "[nltk_data]   Package punkt is already up-to-date!\n",
      "[nltk_data] Downloading package stopwords to\n",
      "[nltk_data]     C:\\Users\\Brian\\AppData\\Roaming\\nltk_data...\n",
      "[nltk_data]   Package stopwords is already up-to-date!\n",
      "[nltk_data] Downloading package wordnet to\n",
      "[nltk_data]     C:\\Users\\Brian\\AppData\\Roaming\\nltk_data...\n",
      "[nltk_data]   Package wordnet is already up-to-date!\n"
     ]
    }
   ],
   "source": [
    "# Download required NLTK data\n",
    "nltk.download('punkt')\n",
    "nltk.download('stopwords')\n",
    "nltk.download('wordnet')\n",
    "\n",
    "def clean_review(review):\n",
    "    # First, handle any non-string entries\n",
    "    def convert_to_string(x):\n",
    "        if pd.isna(x):  # Handle NaN values\n",
    "            return \"\"\n",
    "        return str(x)   # Convert everything else to string\n",
    "    \n",
    "    # Convert all entries to strings\n",
    "    review_strings = review.apply(convert_to_string)\n",
    "    \n",
    "    # Convert to lowercase\n",
    "    review_lower = review.str.lower()\n",
    "    \n",
    "    # Remove URLs\n",
    "    review_no_urls = review_lower.apply(lambda x: re.sub(r'http\\S+|www\\S+|https\\S+', '', x, flags=re.MULTILINE))\n",
    "    \n",
    "    # Remove mentions (@username)\n",
    "    review_no_mentions = review_no_urls.apply(lambda x: re.sub(r'@\\w+', '', x))\n",
    "    \n",
    "    # Remove hashtags (#topic)\n",
    "    review_no_hashtags = review_no_mentions.apply(lambda x: re.sub(r'#\\w+', '', x))\n",
    "    \n",
    "    # Remove punctuation\n",
    "    review_no_punct = review_no_hashtags.apply(lambda x: re.sub(r'[^\\w\\s]', '', x))\n",
    "    \n",
    "    # Remove numbers\n",
    "    review_no_numbers = review_no_punct.apply(lambda x: re.sub(r'\\d+', '', x))\n",
    "    \n",
    "    # Remove extra whitespace\n",
    "    review_clean = review_no_numbers.apply(lambda x: ' '.join(x.split()))\n",
    "    \n",
    "    # Tokenization\n",
    "    review_tokenized = review_clean.apply(lambda x: word_tokenize(x) if x.strip() else [])\n",
    "    \n",
    "    # Remove stopwords\n",
    "    stop_words = set(stopwords.words('english'))\n",
    "    review_no_stopwords = review_tokenized.apply(lambda x: [word for word in x if word not in stop_words])\n",
    "    \n",
    "    # Lemmatization\n",
    "    lemmatizer = WordNetLemmatizer()\n",
    "    review_lemmatized = review_no_stopwords.apply(lambda x: [lemmatizer.lemmatize(word) for word in x])\n",
    "    \n",
    "    # Concatenate tokens back into sentences\n",
    "    review_final = review_lemmatized.apply(lambda x: ' '.join(x))\n",
    "    \n",
    "    return review_final"
   ]
  },
  {
   "cell_type": "code",
   "execution_count": 56,
   "metadata": {},
   "outputs": [
    {
     "name": "stdout",
     "output_type": "stream",
     "text": [
      "Original review:\n",
      " 1                                     Working, feels cheap\n",
      "2        A bit big for a regular laptop bag... The fanc...\n",
      "29                                                 genuine\n",
      "30                                      It worked out well\n",
      "37                                       So far so good...\n",
      "                               ...                        \n",
      "60452                                    Very good product\n",
      "60454                                            It's good\n",
      "60460                   Small but does the work perfectly.\n",
      "60462    The smell is good but doesn't actually last on...\n",
      "60463                              As expected,  very good\n",
      "Name: review, Length: 39598, dtype: object\n",
      "\n",
      "Cleaned review:\n",
      " 1                                       working feel cheap\n",
      "2        bit big regular laptop bag fancy blue light is...\n",
      "29                                                 genuine\n",
      "30                                             worked well\n",
      "37                                                far good\n",
      "                               ...                        \n",
      "60452                                         good product\n",
      "60454                                                 good\n",
      "60460                                 small work perfectly\n",
      "60462    smell good doesnt actually last skin even appl...\n",
      "60463                                        expected good\n",
      "Name: review, Length: 39598, dtype: object\n"
     ]
    }
   ],
   "source": [
    "cleaned_review = clean_review(review)\n",
    "\n",
    "print(\"Original review:\\n\", review)\n",
    "print(\"\\nCleaned review:\\n\", cleaned_review)"
   ]
  },
  {
   "cell_type": "code",
   "execution_count": 57,
   "metadata": {},
   "outputs": [
    {
     "data": {
      "text/html": [
       "<div>\n",
       "<style scoped>\n",
       "    .dataframe tbody tr th:only-of-type {\n",
       "        vertical-align: middle;\n",
       "    }\n",
       "\n",
       "    .dataframe tbody tr th {\n",
       "        vertical-align: top;\n",
       "    }\n",
       "\n",
       "    .dataframe thead th {\n",
       "        text-align: right;\n",
       "    }\n",
       "</style>\n",
       "<table border=\"1\" class=\"dataframe\">\n",
       "  <thead>\n",
       "    <tr style=\"text-align: right;\">\n",
       "      <th></th>\n",
       "      <th>review</th>\n",
       "      <th>sentiment</th>\n",
       "      <th>cleaned_review</th>\n",
       "    </tr>\n",
       "  </thead>\n",
       "  <tbody>\n",
       "    <tr>\n",
       "      <th>1</th>\n",
       "      <td>Working, feels cheap</td>\n",
       "      <td>Neutral</td>\n",
       "      <td>working feel cheap</td>\n",
       "    </tr>\n",
       "    <tr>\n",
       "      <th>2</th>\n",
       "      <td>A bit big for a regular laptop bag... The fanc...</td>\n",
       "      <td>Positive</td>\n",
       "      <td>bit big regular laptop bag fancy blue light is...</td>\n",
       "    </tr>\n",
       "    <tr>\n",
       "      <th>29</th>\n",
       "      <td>genuine</td>\n",
       "      <td>Positive</td>\n",
       "      <td>genuine</td>\n",
       "    </tr>\n",
       "    <tr>\n",
       "      <th>30</th>\n",
       "      <td>It worked out well</td>\n",
       "      <td>Negative</td>\n",
       "      <td>worked well</td>\n",
       "    </tr>\n",
       "    <tr>\n",
       "      <th>37</th>\n",
       "      <td>So far so good...</td>\n",
       "      <td>Positive</td>\n",
       "      <td>far good</td>\n",
       "    </tr>\n",
       "  </tbody>\n",
       "</table>\n",
       "</div>"
      ],
      "text/plain": [
       "                                               review sentiment  \\\n",
       "1                                Working, feels cheap   Neutral   \n",
       "2   A bit big for a regular laptop bag... The fanc...  Positive   \n",
       "29                                            genuine  Positive   \n",
       "30                                 It worked out well  Negative   \n",
       "37                                  So far so good...  Positive   \n",
       "\n",
       "                                       cleaned_review  \n",
       "1                                  working feel cheap  \n",
       "2   bit big regular laptop bag fancy blue light is...  \n",
       "29                                            genuine  \n",
       "30                                        worked well  \n",
       "37                                           far good  "
      ]
     },
     "execution_count": 57,
     "metadata": {},
     "output_type": "execute_result"
    }
   ],
   "source": [
    "# Add the cleaned_review series as a new column to df2\n",
    "df2['cleaned_review'] = cleaned_review\n",
    "\n",
    "df2.head()"
   ]
  },
  {
   "cell_type": "markdown",
   "metadata": {},
   "source": [
    "Dropping the uncleaned `review` column"
   ]
  },
  {
   "cell_type": "code",
   "execution_count": 58,
   "metadata": {},
   "outputs": [
    {
     "data": {
      "text/html": [
       "<div>\n",
       "<style scoped>\n",
       "    .dataframe tbody tr th:only-of-type {\n",
       "        vertical-align: middle;\n",
       "    }\n",
       "\n",
       "    .dataframe tbody tr th {\n",
       "        vertical-align: top;\n",
       "    }\n",
       "\n",
       "    .dataframe thead th {\n",
       "        text-align: right;\n",
       "    }\n",
       "</style>\n",
       "<table border=\"1\" class=\"dataframe\">\n",
       "  <thead>\n",
       "    <tr style=\"text-align: right;\">\n",
       "      <th></th>\n",
       "      <th>sentiment</th>\n",
       "      <th>cleaned_review</th>\n",
       "    </tr>\n",
       "  </thead>\n",
       "  <tbody>\n",
       "    <tr>\n",
       "      <th>1</th>\n",
       "      <td>Neutral</td>\n",
       "      <td>working feel cheap</td>\n",
       "    </tr>\n",
       "    <tr>\n",
       "      <th>2</th>\n",
       "      <td>Positive</td>\n",
       "      <td>bit big regular laptop bag fancy blue light is...</td>\n",
       "    </tr>\n",
       "    <tr>\n",
       "      <th>29</th>\n",
       "      <td>Positive</td>\n",
       "      <td>genuine</td>\n",
       "    </tr>\n",
       "    <tr>\n",
       "      <th>30</th>\n",
       "      <td>Negative</td>\n",
       "      <td>worked well</td>\n",
       "    </tr>\n",
       "    <tr>\n",
       "      <th>37</th>\n",
       "      <td>Positive</td>\n",
       "      <td>far good</td>\n",
       "    </tr>\n",
       "  </tbody>\n",
       "</table>\n",
       "</div>"
      ],
      "text/plain": [
       "   sentiment                                     cleaned_review\n",
       "1    Neutral                                 working feel cheap\n",
       "2   Positive  bit big regular laptop bag fancy blue light is...\n",
       "29  Positive                                            genuine\n",
       "30  Negative                                        worked well\n",
       "37  Positive                                           far good"
      ]
     },
     "execution_count": 58,
     "metadata": {},
     "output_type": "execute_result"
    }
   ],
   "source": [
    "df2.drop(columns='review', axis=1, inplace=True)\n",
    "\n",
    "df2.head()"
   ]
  },
  {
   "cell_type": "markdown",
   "metadata": {},
   "source": [
    "Statistical summary"
   ]
  },
  {
   "cell_type": "code",
   "execution_count": 59,
   "metadata": {},
   "outputs": [
    {
     "data": {
      "text/html": [
       "<div>\n",
       "<style scoped>\n",
       "    .dataframe tbody tr th:only-of-type {\n",
       "        vertical-align: middle;\n",
       "    }\n",
       "\n",
       "    .dataframe tbody tr th {\n",
       "        vertical-align: top;\n",
       "    }\n",
       "\n",
       "    .dataframe thead th {\n",
       "        text-align: right;\n",
       "    }\n",
       "</style>\n",
       "<table border=\"1\" class=\"dataframe\">\n",
       "  <thead>\n",
       "    <tr style=\"text-align: right;\">\n",
       "      <th></th>\n",
       "      <th>sentiment</th>\n",
       "      <th>cleaned_review</th>\n",
       "    </tr>\n",
       "  </thead>\n",
       "  <tbody>\n",
       "    <tr>\n",
       "      <th>count</th>\n",
       "      <td>39598</td>\n",
       "      <td>39598</td>\n",
       "    </tr>\n",
       "    <tr>\n",
       "      <th>unique</th>\n",
       "      <td>3</td>\n",
       "      <td>21995</td>\n",
       "    </tr>\n",
       "    <tr>\n",
       "      <th>top</th>\n",
       "      <td>Positive</td>\n",
       "      <td>good</td>\n",
       "    </tr>\n",
       "    <tr>\n",
       "      <th>freq</th>\n",
       "      <td>28105</td>\n",
       "      <td>840</td>\n",
       "    </tr>\n",
       "  </tbody>\n",
       "</table>\n",
       "</div>"
      ],
      "text/plain": [
       "       sentiment cleaned_review\n",
       "count      39598          39598\n",
       "unique         3          21995\n",
       "top     Positive           good\n",
       "freq       28105            840"
      ]
     },
     "execution_count": 59,
     "metadata": {},
     "output_type": "execute_result"
    }
   ],
   "source": [
    "df2.describe()"
   ]
  },
  {
   "cell_type": "code",
   "execution_count": null,
   "metadata": {},
   "outputs": [],
   "source": []
  }
 ],
 "metadata": {
  "kernelspec": {
   "display_name": "learn-env",
   "language": "python",
   "name": "python3"
  },
  "language_info": {
   "codemirror_mode": {
    "name": "ipython",
    "version": 3
   },
   "file_extension": ".py",
   "mimetype": "text/x-python",
   "name": "python",
   "nbconvert_exporter": "python",
   "pygments_lexer": "ipython3",
   "version": "3.8.5"
  }
 },
 "nbformat": 4,
 "nbformat_minor": 2
}
