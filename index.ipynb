{
 "cells": [
  {
   "cell_type": "code",
   "execution_count": 1,
   "metadata": {},
   "outputs": [],
   "source": [
    "# importing the necessary libraries\n",
    "\n",
    "import pandas as pd\n",
    "import numpy as np\n",
    "\n",
    "import matplotlib.pyplot as plt\n",
    "import seaborn as sns\n",
    "\n",
    "from sklearn.model_selection import train_test_split,cross_val_score, GridSearchCV, RandomizedSearchCV\n",
    "from imblearn.over_sampling import SMOTE \n",
    "from scipy import stats as stats\n",
    "from imblearn.pipeline import Pipeline as imbpipe\n",
    "from sklearn.metrics import accuracy_score,f1_score,recall_score,precision_score,confusion_matrix,\\\n",
    "roc_curve,roc_auc_score,classification_report, auc, ConfusionMatrixDisplay\n",
    "from sklearn.preprocessing import MinMaxScaler, StandardScaler, OneHotEncoder, LabelEncoder\n",
    "from scipy.stats import randint\n",
    "from xgboost import XGBClassifier\n",
    "from sklearn.compose import ColumnTransformer\n",
    "from sklearn.pipeline import Pipeline\n",
    "\n",
    "from scipy import stats\n",
    "from sklearn.impute import KNNImputer\n",
    "from sklearn.tree import DecisionTreeClassifier\n",
    "from sklearn.ensemble import RandomForestClassifier\n",
    "from sklearn.linear_model import LogisticRegression\n",
    "\n",
    "import warnings\n",
    "warnings.filterwarnings('ignore')"
   ]
  },
  {
   "cell_type": "markdown",
   "metadata": {},
   "source": [
    "#### DATA UNDERSTANDING"
   ]
  },
  {
   "cell_type": "markdown",
   "metadata": {},
   "source": [
    "Load the dataset"
   ]
  },
  {
   "cell_type": "code",
   "execution_count": 2,
   "metadata": {},
   "outputs": [
    {
     "data": {
      "text/html": [
       "<div>\n",
       "<style scoped>\n",
       "    .dataframe tbody tr th:only-of-type {\n",
       "        vertical-align: middle;\n",
       "    }\n",
       "\n",
       "    .dataframe tbody tr th {\n",
       "        vertical-align: top;\n",
       "    }\n",
       "\n",
       "    .dataframe thead th {\n",
       "        text-align: right;\n",
       "    }\n",
       "</style>\n",
       "<table border=\"1\" class=\"dataframe\">\n",
       "  <thead>\n",
       "    <tr style=\"text-align: right;\">\n",
       "      <th></th>\n",
       "      <th>web-scraper-order</th>\n",
       "      <th>web-scraper-start-url</th>\n",
       "      <th>product</th>\n",
       "      <th>product-href</th>\n",
       "      <th>product_name</th>\n",
       "      <th>image</th>\n",
       "      <th>price</th>\n",
       "      <th>brand</th>\n",
       "      <th>link</th>\n",
       "      <th>link-href</th>\n",
       "      <th>see_all</th>\n",
       "      <th>see_all-href</th>\n",
       "      <th>review_title</th>\n",
       "      <th>review</th>\n",
       "      <th>ratings</th>\n",
       "      <th>user_name</th>\n",
       "      <th>date</th>\n",
       "      <th>see_all_link</th>\n",
       "      <th>see_all_link-href</th>\n",
       "      <th>Category</th>\n",
       "    </tr>\n",
       "  </thead>\n",
       "  <tbody>\n",
       "    <tr>\n",
       "      <th>0</th>\n",
       "      <td>1730407108-1</td>\n",
       "      <td>https://www.jumia.co.ke/computer-accessories/</td>\n",
       "      <td>Black Friday dealLaptop Skin Wrap Vinyl from 1...</td>\n",
       "      <td>https://www.jumia.co.ke/generic-laptop-skin-wr...</td>\n",
       "      <td>Laptop Skin Wrap Vinyl from 12-17.0 inches Lap...</td>\n",
       "      <td>https://ke.jumia.is/unsafe/fit-in/680x680/filt...</td>\n",
       "      <td>KSh 699 - KSh 797</td>\n",
       "      <td>NaN</td>\n",
       "      <td>NaN</td>\n",
       "      <td>https://www.jumia.co.ke/computer-accessories/?...</td>\n",
       "      <td>NaN</td>\n",
       "      <td>NaN</td>\n",
       "      <td>NaN</td>\n",
       "      <td>NaN</td>\n",
       "      <td>NaN</td>\n",
       "      <td>NaN</td>\n",
       "      <td>NaN</td>\n",
       "      <td>NaN</td>\n",
       "      <td>NaN</td>\n",
       "      <td>Computing</td>\n",
       "    </tr>\n",
       "    <tr>\n",
       "      <th>1</th>\n",
       "      <td>1730407112-2</td>\n",
       "      <td>https://www.jumia.co.ke/computer-accessories/</td>\n",
       "      <td>Black Friday deal9\"-17\" Laptop Cooling Stand P...</td>\n",
       "      <td>https://www.jumia.co.ke/9-17-laptop-cooling-st...</td>\n",
       "      <td>9\"-17\" Laptop Cooling Stand Pad</td>\n",
       "      <td>https://ke.jumia.is/unsafe/fit-in/680x680/filt...</td>\n",
       "      <td>KSh 3,325</td>\n",
       "      <td>NaN</td>\n",
       "      <td>NaN</td>\n",
       "      <td>https://www.jumia.co.ke/computer-accessories/?...</td>\n",
       "      <td>See All</td>\n",
       "      <td>https://www.jumia.co.ke/catalog/productratings...</td>\n",
       "      <td>OKAY</td>\n",
       "      <td>Working, feels cheap</td>\n",
       "      <td>3 out of 5</td>\n",
       "      <td>by WILFRED</td>\n",
       "      <td>28/04/2022</td>\n",
       "      <td>NaN</td>\n",
       "      <td>NaN</td>\n",
       "      <td>Computing</td>\n",
       "    </tr>\n",
       "    <tr>\n",
       "      <th>2</th>\n",
       "      <td>1730407112-3</td>\n",
       "      <td>https://www.jumia.co.ke/computer-accessories/</td>\n",
       "      <td>Black Friday deal9\"-17\" Laptop Cooling Stand P...</td>\n",
       "      <td>https://www.jumia.co.ke/9-17-laptop-cooling-st...</td>\n",
       "      <td>9\"-17\" Laptop Cooling Stand Pad</td>\n",
       "      <td>https://ke.jumia.is/unsafe/fit-in/680x680/filt...</td>\n",
       "      <td>KSh 3,325</td>\n",
       "      <td>NaN</td>\n",
       "      <td>NaN</td>\n",
       "      <td>https://www.jumia.co.ke/computer-accessories/?...</td>\n",
       "      <td>See All</td>\n",
       "      <td>https://www.jumia.co.ke/catalog/productratings...</td>\n",
       "      <td>okay</td>\n",
       "      <td>A bit big for a regular laptop bag... The fanc...</td>\n",
       "      <td>4 out of 5</td>\n",
       "      <td>by Michael</td>\n",
       "      <td>8/7/2021</td>\n",
       "      <td>NaN</td>\n",
       "      <td>NaN</td>\n",
       "      <td>Computing</td>\n",
       "    </tr>\n",
       "    <tr>\n",
       "      <th>3</th>\n",
       "      <td>1730407114-4</td>\n",
       "      <td>https://www.jumia.co.ke/computer-accessories/</td>\n",
       "      <td>Black Friday dealLexar 2.5\" SATA 256GB Laptop ...</td>\n",
       "      <td>https://www.jumia.co.ke/lexar-2.5-sata-256gb-l...</td>\n",
       "      <td>Lexar 2.5\" SATA 256GB Laptop SSD</td>\n",
       "      <td>https://ke.jumia.is/unsafe/fit-in/680x680/filt...</td>\n",
       "      <td>KSh 3,799</td>\n",
       "      <td>Lexar</td>\n",
       "      <td>NaN</td>\n",
       "      <td>https://www.jumia.co.ke/computer-accessories/?...</td>\n",
       "      <td>NaN</td>\n",
       "      <td>NaN</td>\n",
       "      <td>NaN</td>\n",
       "      <td>NaN</td>\n",
       "      <td>NaN</td>\n",
       "      <td>NaN</td>\n",
       "      <td>NaN</td>\n",
       "      <td>NaN</td>\n",
       "      <td>NaN</td>\n",
       "      <td>Computing</td>\n",
       "    </tr>\n",
       "    <tr>\n",
       "      <th>4</th>\n",
       "      <td>1730407116-5</td>\n",
       "      <td>https://www.jumia.co.ke/computer-accessories/</td>\n",
       "      <td>WD External Portable Hard Drive-2TBKSh 15,000</td>\n",
       "      <td>https://www.jumia.co.ke/wd-external-portable-h...</td>\n",
       "      <td>WD External Portable Hard Drive-2TB</td>\n",
       "      <td>https://ke.jumia.is/unsafe/fit-in/680x680/filt...</td>\n",
       "      <td>KSh 15,000</td>\n",
       "      <td>WD</td>\n",
       "      <td>NaN</td>\n",
       "      <td>https://www.jumia.co.ke/computer-accessories/?...</td>\n",
       "      <td>NaN</td>\n",
       "      <td>NaN</td>\n",
       "      <td>NaN</td>\n",
       "      <td>NaN</td>\n",
       "      <td>NaN</td>\n",
       "      <td>NaN</td>\n",
       "      <td>NaN</td>\n",
       "      <td>NaN</td>\n",
       "      <td>NaN</td>\n",
       "      <td>Computing</td>\n",
       "    </tr>\n",
       "  </tbody>\n",
       "</table>\n",
       "</div>"
      ],
      "text/plain": [
       "  web-scraper-order                          web-scraper-start-url  \\\n",
       "0      1730407108-1  https://www.jumia.co.ke/computer-accessories/   \n",
       "1      1730407112-2  https://www.jumia.co.ke/computer-accessories/   \n",
       "2      1730407112-3  https://www.jumia.co.ke/computer-accessories/   \n",
       "3      1730407114-4  https://www.jumia.co.ke/computer-accessories/   \n",
       "4      1730407116-5  https://www.jumia.co.ke/computer-accessories/   \n",
       "\n",
       "                                             product  \\\n",
       "0  Black Friday dealLaptop Skin Wrap Vinyl from 1...   \n",
       "1  Black Friday deal9\"-17\" Laptop Cooling Stand P...   \n",
       "2  Black Friday deal9\"-17\" Laptop Cooling Stand P...   \n",
       "3  Black Friday dealLexar 2.5\" SATA 256GB Laptop ...   \n",
       "4      WD External Portable Hard Drive-2TBKSh 15,000   \n",
       "\n",
       "                                        product-href  \\\n",
       "0  https://www.jumia.co.ke/generic-laptop-skin-wr...   \n",
       "1  https://www.jumia.co.ke/9-17-laptop-cooling-st...   \n",
       "2  https://www.jumia.co.ke/9-17-laptop-cooling-st...   \n",
       "3  https://www.jumia.co.ke/lexar-2.5-sata-256gb-l...   \n",
       "4  https://www.jumia.co.ke/wd-external-portable-h...   \n",
       "\n",
       "                                        product_name  \\\n",
       "0  Laptop Skin Wrap Vinyl from 12-17.0 inches Lap...   \n",
       "1                    9\"-17\" Laptop Cooling Stand Pad   \n",
       "2                    9\"-17\" Laptop Cooling Stand Pad   \n",
       "3                   Lexar 2.5\" SATA 256GB Laptop SSD   \n",
       "4                WD External Portable Hard Drive-2TB   \n",
       "\n",
       "                                               image              price  \\\n",
       "0  https://ke.jumia.is/unsafe/fit-in/680x680/filt...  KSh 699 - KSh 797   \n",
       "1  https://ke.jumia.is/unsafe/fit-in/680x680/filt...          KSh 3,325   \n",
       "2  https://ke.jumia.is/unsafe/fit-in/680x680/filt...          KSh 3,325   \n",
       "3  https://ke.jumia.is/unsafe/fit-in/680x680/filt...          KSh 3,799   \n",
       "4  https://ke.jumia.is/unsafe/fit-in/680x680/filt...         KSh 15,000   \n",
       "\n",
       "   brand link                                          link-href  see_all  \\\n",
       "0    NaN  NaN  https://www.jumia.co.ke/computer-accessories/?...      NaN   \n",
       "1    NaN  NaN  https://www.jumia.co.ke/computer-accessories/?...  See All   \n",
       "2    NaN  NaN  https://www.jumia.co.ke/computer-accessories/?...  See All   \n",
       "3  Lexar  NaN  https://www.jumia.co.ke/computer-accessories/?...      NaN   \n",
       "4     WD  NaN  https://www.jumia.co.ke/computer-accessories/?...      NaN   \n",
       "\n",
       "                                        see_all-href review_title  \\\n",
       "0                                                NaN          NaN   \n",
       "1  https://www.jumia.co.ke/catalog/productratings...         OKAY   \n",
       "2  https://www.jumia.co.ke/catalog/productratings...         okay   \n",
       "3                                                NaN          NaN   \n",
       "4                                                NaN          NaN   \n",
       "\n",
       "                                              review     ratings   user_name  \\\n",
       "0                                                NaN         NaN         NaN   \n",
       "1                               Working, feels cheap  3 out of 5  by WILFRED   \n",
       "2  A bit big for a regular laptop bag... The fanc...  4 out of 5  by Michael   \n",
       "3                                                NaN         NaN         NaN   \n",
       "4                                                NaN         NaN         NaN   \n",
       "\n",
       "         date see_all_link see_all_link-href   Category  \n",
       "0         NaN          NaN               NaN  Computing  \n",
       "1  28/04/2022          NaN               NaN  Computing  \n",
       "2    8/7/2021          NaN               NaN  Computing  \n",
       "3         NaN          NaN               NaN  Computing  \n",
       "4         NaN          NaN               NaN  Computing  "
      ]
     },
     "execution_count": 2,
     "metadata": {},
     "output_type": "execute_result"
    }
   ],
   "source": [
    "# Load the data into a dataframe and read the first five rows\n",
    "df = pd.read_csv('combined_dta.csv', encoding='ISO-8859-1')\n",
    "\n",
    "df.head()"
   ]
  },
  {
   "cell_type": "code",
   "execution_count": 3,
   "metadata": {},
   "outputs": [
    {
     "data": {
      "text/plain": [
       "(60464, 20)"
      ]
     },
     "execution_count": 3,
     "metadata": {},
     "output_type": "execute_result"
    }
   ],
   "source": [
    "# Check the number of rows and columns in the dataset\n",
    "df.shape"
   ]
  },
  {
   "cell_type": "code",
   "execution_count": 4,
   "metadata": {},
   "outputs": [
    {
     "data": {
      "text/plain": [
       "Index(['web-scraper-order', 'web-scraper-start-url', 'product', 'product-href',\n",
       "       'product_name', 'image', 'price', 'brand', 'link', 'link-href',\n",
       "       'see_all', 'see_all-href', 'review_title', 'review', 'ratings',\n",
       "       'user_name', 'date', 'see_all_link', 'see_all_link-href', 'Category'],\n",
       "      dtype='object')"
      ]
     },
     "execution_count": 4,
     "metadata": {},
     "output_type": "execute_result"
    }
   ],
   "source": [
    "# List of columns in the dataset\n",
    "df.columns"
   ]
  },
  {
   "cell_type": "code",
   "execution_count": 5,
   "metadata": {},
   "outputs": [
    {
     "name": "stdout",
     "output_type": "stream",
     "text": [
      "<class 'pandas.core.frame.DataFrame'>\n",
      "RangeIndex: 60464 entries, 0 to 60463\n",
      "Data columns (total 20 columns):\n",
      " #   Column                 Non-Null Count  Dtype \n",
      "---  ------                 --------------  ----- \n",
      " 0   web-scraper-order      60464 non-null  object\n",
      " 1   web-scraper-start-url  60464 non-null  object\n",
      " 2   product                60464 non-null  object\n",
      " 3   product-href           60464 non-null  object\n",
      " 4   product_name           60459 non-null  object\n",
      " 5   image                  60330 non-null  object\n",
      " 6   price                  60330 non-null  object\n",
      " 7   brand                  39584 non-null  object\n",
      " 8   link                   28139 non-null  object\n",
      " 9   link-href              36020 non-null  object\n",
      " 10  see_all                40431 non-null  object\n",
      " 11  see_all-href           40425 non-null  object\n",
      " 12  review_title           37705 non-null  object\n",
      " 13  review                 40201 non-null  object\n",
      " 14  ratings                37618 non-null  object\n",
      " 15  user_name              37618 non-null  object\n",
      " 16  date                   37618 non-null  object\n",
      " 17  see_all_link           51 non-null     object\n",
      " 18  see_all_link-href      51 non-null     object\n",
      " 19  Category               60464 non-null  object\n",
      "dtypes: object(20)\n",
      "memory usage: 9.2+ MB\n"
     ]
    }
   ],
   "source": [
    "#Check the data types and the non-null count of each column\n",
    "df.info()"
   ]
  },
  {
   "cell_type": "markdown",
   "metadata": {},
   "source": [
    "#### DATA CLEANING"
   ]
  },
  {
   "cell_type": "code",
   "execution_count": 6,
   "metadata": {},
   "outputs": [],
   "source": [
    "# Function to calculate the percentage of null values in every column\n",
    "\n",
    "def null_percentages(df):\n",
    "    \n",
    "    # Calculate the number of missing values and their percentage\n",
    "    null_values = df.isnull().sum()\n",
    "    null_percentage = (null_values / df.shape[0]) * 100\n",
    "    \n",
    "    # Create a DataFrame with the results\n",
    "    missing_data = pd.DataFrame({'Null Values': null_values, 'Percentage': null_percentage})\n",
    "\n",
    "    # Filter out columns with no missing values and sort by 'Missing Values'\n",
    "    missing_data = missing_data[missing_data['Null Values'] > 0].sort_values(by='Null Values', ascending=False)\n",
    "\n",
    "    return missing_data"
   ]
  },
  {
   "cell_type": "code",
   "execution_count": 7,
   "metadata": {},
   "outputs": [
    {
     "data": {
      "text/html": [
       "<div>\n",
       "<style scoped>\n",
       "    .dataframe tbody tr th:only-of-type {\n",
       "        vertical-align: middle;\n",
       "    }\n",
       "\n",
       "    .dataframe tbody tr th {\n",
       "        vertical-align: top;\n",
       "    }\n",
       "\n",
       "    .dataframe thead th {\n",
       "        text-align: right;\n",
       "    }\n",
       "</style>\n",
       "<table border=\"1\" class=\"dataframe\">\n",
       "  <thead>\n",
       "    <tr style=\"text-align: right;\">\n",
       "      <th></th>\n",
       "      <th>Null Values</th>\n",
       "      <th>Percentage</th>\n",
       "    </tr>\n",
       "  </thead>\n",
       "  <tbody>\n",
       "    <tr>\n",
       "      <th>see_all_link</th>\n",
       "      <td>60413</td>\n",
       "      <td>99.915652</td>\n",
       "    </tr>\n",
       "    <tr>\n",
       "      <th>see_all_link-href</th>\n",
       "      <td>60413</td>\n",
       "      <td>99.915652</td>\n",
       "    </tr>\n",
       "    <tr>\n",
       "      <th>link</th>\n",
       "      <td>32325</td>\n",
       "      <td>53.461564</td>\n",
       "    </tr>\n",
       "    <tr>\n",
       "      <th>link-href</th>\n",
       "      <td>24444</td>\n",
       "      <td>40.427362</td>\n",
       "    </tr>\n",
       "    <tr>\n",
       "      <th>ratings</th>\n",
       "      <td>22846</td>\n",
       "      <td>37.784467</td>\n",
       "    </tr>\n",
       "    <tr>\n",
       "      <th>user_name</th>\n",
       "      <td>22846</td>\n",
       "      <td>37.784467</td>\n",
       "    </tr>\n",
       "    <tr>\n",
       "      <th>date</th>\n",
       "      <td>22846</td>\n",
       "      <td>37.784467</td>\n",
       "    </tr>\n",
       "    <tr>\n",
       "      <th>review_title</th>\n",
       "      <td>22759</td>\n",
       "      <td>37.640580</td>\n",
       "    </tr>\n",
       "    <tr>\n",
       "      <th>brand</th>\n",
       "      <td>20880</td>\n",
       "      <td>34.532945</td>\n",
       "    </tr>\n",
       "    <tr>\n",
       "      <th>review</th>\n",
       "      <td>20263</td>\n",
       "      <td>33.512503</td>\n",
       "    </tr>\n",
       "    <tr>\n",
       "      <th>see_all-href</th>\n",
       "      <td>20039</td>\n",
       "      <td>33.142035</td>\n",
       "    </tr>\n",
       "    <tr>\n",
       "      <th>see_all</th>\n",
       "      <td>20033</td>\n",
       "      <td>33.132112</td>\n",
       "    </tr>\n",
       "    <tr>\n",
       "      <th>image</th>\n",
       "      <td>134</td>\n",
       "      <td>0.221619</td>\n",
       "    </tr>\n",
       "    <tr>\n",
       "      <th>price</th>\n",
       "      <td>134</td>\n",
       "      <td>0.221619</td>\n",
       "    </tr>\n",
       "    <tr>\n",
       "      <th>product_name</th>\n",
       "      <td>5</td>\n",
       "      <td>0.008269</td>\n",
       "    </tr>\n",
       "  </tbody>\n",
       "</table>\n",
       "</div>"
      ],
      "text/plain": [
       "                   Null Values  Percentage\n",
       "see_all_link             60413   99.915652\n",
       "see_all_link-href        60413   99.915652\n",
       "link                     32325   53.461564\n",
       "link-href                24444   40.427362\n",
       "ratings                  22846   37.784467\n",
       "user_name                22846   37.784467\n",
       "date                     22846   37.784467\n",
       "review_title             22759   37.640580\n",
       "brand                    20880   34.532945\n",
       "review                   20263   33.512503\n",
       "see_all-href             20039   33.142035\n",
       "see_all                  20033   33.132112\n",
       "image                      134    0.221619\n",
       "price                      134    0.221619\n",
       "product_name                 5    0.008269"
      ]
     },
     "execution_count": 7,
     "metadata": {},
     "output_type": "execute_result"
    }
   ],
   "source": [
    "null_percentages(df)"
   ]
  },
  {
   "cell_type": "code",
   "execution_count": 8,
   "metadata": {},
   "outputs": [],
   "source": [
    "# Drop the columns with more than 75% null values\n",
    "def drop_null_columns(df, threshold=75):\n",
    "   # Calculate the percentage of null values in each column\n",
    "\n",
    "   null_percentages = (df.isnull().sum() / len(df)) * 100\n",
    "\n",
    "   # Identify columns to drop\n",
    "\n",
    "   columns_to_drop = null_percentages[null_percentages > threshold].index\n",
    "\n",
    "   # Drop the identified columns\n",
    "   df = df.drop(columns=columns_to_drop, axis=1)\n",
    "    \n",
    "   return df"
   ]
  },
  {
   "cell_type": "code",
   "execution_count": 9,
   "metadata": {},
   "outputs": [
    {
     "data": {
      "text/plain": [
       "(60464, 18)"
      ]
     },
     "execution_count": 9,
     "metadata": {},
     "output_type": "execute_result"
    }
   ],
   "source": [
    "df_1 = drop_null_columns(df)\n",
    "\n",
    "df_1.shape"
   ]
  },
  {
   "cell_type": "code",
   "execution_count": 10,
   "metadata": {},
   "outputs": [
    {
     "data": {
      "text/plain": [
       "Index(['web-scraper-order', 'web-scraper-start-url', 'product', 'product-href',\n",
       "       'product_name', 'image', 'price', 'brand', 'link', 'link-href',\n",
       "       'see_all', 'see_all-href', 'review_title', 'review', 'ratings',\n",
       "       'user_name', 'date', 'Category'],\n",
       "      dtype='object')"
      ]
     },
     "execution_count": 10,
     "metadata": {},
     "output_type": "execute_result"
    }
   ],
   "source": [
    "df_1.columns"
   ]
  },
  {
   "cell_type": "code",
   "execution_count": 11,
   "metadata": {},
   "outputs": [
    {
     "data": {
      "text/html": [
       "<div>\n",
       "<style scoped>\n",
       "    .dataframe tbody tr th:only-of-type {\n",
       "        vertical-align: middle;\n",
       "    }\n",
       "\n",
       "    .dataframe tbody tr th {\n",
       "        vertical-align: top;\n",
       "    }\n",
       "\n",
       "    .dataframe thead th {\n",
       "        text-align: right;\n",
       "    }\n",
       "</style>\n",
       "<table border=\"1\" class=\"dataframe\">\n",
       "  <thead>\n",
       "    <tr style=\"text-align: right;\">\n",
       "      <th></th>\n",
       "      <th>Null Values</th>\n",
       "      <th>Percentage</th>\n",
       "    </tr>\n",
       "  </thead>\n",
       "  <tbody>\n",
       "    <tr>\n",
       "      <th>link</th>\n",
       "      <td>32325</td>\n",
       "      <td>53.461564</td>\n",
       "    </tr>\n",
       "    <tr>\n",
       "      <th>link-href</th>\n",
       "      <td>24444</td>\n",
       "      <td>40.427362</td>\n",
       "    </tr>\n",
       "    <tr>\n",
       "      <th>ratings</th>\n",
       "      <td>22846</td>\n",
       "      <td>37.784467</td>\n",
       "    </tr>\n",
       "    <tr>\n",
       "      <th>user_name</th>\n",
       "      <td>22846</td>\n",
       "      <td>37.784467</td>\n",
       "    </tr>\n",
       "    <tr>\n",
       "      <th>date</th>\n",
       "      <td>22846</td>\n",
       "      <td>37.784467</td>\n",
       "    </tr>\n",
       "    <tr>\n",
       "      <th>review_title</th>\n",
       "      <td>22759</td>\n",
       "      <td>37.640580</td>\n",
       "    </tr>\n",
       "    <tr>\n",
       "      <th>brand</th>\n",
       "      <td>20880</td>\n",
       "      <td>34.532945</td>\n",
       "    </tr>\n",
       "    <tr>\n",
       "      <th>review</th>\n",
       "      <td>20263</td>\n",
       "      <td>33.512503</td>\n",
       "    </tr>\n",
       "    <tr>\n",
       "      <th>see_all-href</th>\n",
       "      <td>20039</td>\n",
       "      <td>33.142035</td>\n",
       "    </tr>\n",
       "    <tr>\n",
       "      <th>see_all</th>\n",
       "      <td>20033</td>\n",
       "      <td>33.132112</td>\n",
       "    </tr>\n",
       "    <tr>\n",
       "      <th>image</th>\n",
       "      <td>134</td>\n",
       "      <td>0.221619</td>\n",
       "    </tr>\n",
       "    <tr>\n",
       "      <th>price</th>\n",
       "      <td>134</td>\n",
       "      <td>0.221619</td>\n",
       "    </tr>\n",
       "    <tr>\n",
       "      <th>product_name</th>\n",
       "      <td>5</td>\n",
       "      <td>0.008269</td>\n",
       "    </tr>\n",
       "  </tbody>\n",
       "</table>\n",
       "</div>"
      ],
      "text/plain": [
       "              Null Values  Percentage\n",
       "link                32325   53.461564\n",
       "link-href           24444   40.427362\n",
       "ratings             22846   37.784467\n",
       "user_name           22846   37.784467\n",
       "date                22846   37.784467\n",
       "review_title        22759   37.640580\n",
       "brand               20880   34.532945\n",
       "review              20263   33.512503\n",
       "see_all-href        20039   33.142035\n",
       "see_all             20033   33.132112\n",
       "image                 134    0.221619\n",
       "price                 134    0.221619\n",
       "product_name            5    0.008269"
      ]
     },
     "execution_count": 11,
     "metadata": {},
     "output_type": "execute_result"
    }
   ],
   "source": [
    "# check null values in the new dataset\n",
    "null_percentages(df_1)"
   ]
  },
  {
   "cell_type": "code",
   "execution_count": 12,
   "metadata": {},
   "outputs": [],
   "source": [
    "# Impute Missing Values in URL-Related Columns\n",
    "df_1['link'].fillna('No Link', inplace=True)\n",
    "df_1['link-href'].fillna('No Link', inplace=True)\n",
    "df_1['see_all'].fillna('No Link', inplace=True)\n",
    "df_1['see_all-href'].fillna('No Link', inplace=True)"
   ]
  },
  {
   "cell_type": "code",
   "execution_count": 13,
   "metadata": {},
   "outputs": [],
   "source": [
    "# Impute less critical columns\n",
    "df_1['brand'].fillna('Unknown', inplace=True)\n",
    "df_1['review_title'].fillna('No Title', inplace=True)"
   ]
  },
  {
   "cell_type": "code",
   "execution_count": 14,
   "metadata": {},
   "outputs": [
    {
     "data": {
      "text/plain": [
       "0        KSh 699 - KSh 797\n",
       "1                KSh 3,325\n",
       "2                KSh 3,325\n",
       "3                KSh 3,799\n",
       "4               KSh 15,000\n",
       "               ...        \n",
       "60459              KSh 675\n",
       "60460              KSh 499\n",
       "60461    KSh 570 - KSh 751\n",
       "60462              KSh 383\n",
       "60463              KSh 383\n",
       "Name: price, Length: 60464, dtype: object"
      ]
     },
     "execution_count": 14,
     "metadata": {},
     "output_type": "execute_result"
    }
   ],
   "source": [
    "# For the price column, some of the prices are a range and the column also\n",
    "# includes strings with currency symbol (Ksh)i.e.:\n",
    "df_1['price']"
   ]
  },
  {
   "cell_type": "code",
   "execution_count": 15,
   "metadata": {},
   "outputs": [],
   "source": [
    "# Function to remove the currency and calculate the average of the price range\n",
    "import re\n",
    "\n",
    "def convert_price(price):\n",
    "    # Remove non-numeric characters (i.e.currency symbols)\n",
    "    cleaned_price = re.sub(r\"[^\\d.-]\", \"\", str(price))\n",
    "    \n",
    "    # Handle ranges\n",
    "    if '-' in cleaned_price:\n",
    "        try:\n",
    "            low, high = map(float, cleaned_price.split('-'))\n",
    "            return (low + high) / 2\n",
    "        except ValueError:\n",
    "            return None  # Return None if conversion fails\n",
    "    else:\n",
    "        try:\n",
    "            return float(cleaned_price)  # Convert single prices to float\n",
    "        except ValueError:\n",
    "            return None"
   ]
  },
  {
   "cell_type": "code",
   "execution_count": 16,
   "metadata": {},
   "outputs": [],
   "source": [
    "# Apply the conversion function to the price column\n",
    "df_1['price'] = df_1['price'].apply(convert_price)"
   ]
  },
  {
   "cell_type": "code",
   "execution_count": 17,
   "metadata": {},
   "outputs": [],
   "source": [
    "# Fill remaining null values with the median(to retain more data)\n",
    "df_1['price'].fillna(df_1['price'].median(), inplace=True)"
   ]
  },
  {
   "cell_type": "code",
   "execution_count": 18,
   "metadata": {},
   "outputs": [
    {
     "data": {
      "text/html": [
       "<div>\n",
       "<style scoped>\n",
       "    .dataframe tbody tr th:only-of-type {\n",
       "        vertical-align: middle;\n",
       "    }\n",
       "\n",
       "    .dataframe tbody tr th {\n",
       "        vertical-align: top;\n",
       "    }\n",
       "\n",
       "    .dataframe thead th {\n",
       "        text-align: right;\n",
       "    }\n",
       "</style>\n",
       "<table border=\"1\" class=\"dataframe\">\n",
       "  <thead>\n",
       "    <tr style=\"text-align: right;\">\n",
       "      <th></th>\n",
       "      <th>Null Values</th>\n",
       "      <th>Percentage</th>\n",
       "    </tr>\n",
       "  </thead>\n",
       "  <tbody>\n",
       "    <tr>\n",
       "      <th>ratings</th>\n",
       "      <td>22846</td>\n",
       "      <td>37.784467</td>\n",
       "    </tr>\n",
       "    <tr>\n",
       "      <th>user_name</th>\n",
       "      <td>22846</td>\n",
       "      <td>37.784467</td>\n",
       "    </tr>\n",
       "    <tr>\n",
       "      <th>date</th>\n",
       "      <td>22846</td>\n",
       "      <td>37.784467</td>\n",
       "    </tr>\n",
       "    <tr>\n",
       "      <th>review</th>\n",
       "      <td>20263</td>\n",
       "      <td>33.512503</td>\n",
       "    </tr>\n",
       "    <tr>\n",
       "      <th>image</th>\n",
       "      <td>134</td>\n",
       "      <td>0.221619</td>\n",
       "    </tr>\n",
       "    <tr>\n",
       "      <th>product_name</th>\n",
       "      <td>5</td>\n",
       "      <td>0.008269</td>\n",
       "    </tr>\n",
       "  </tbody>\n",
       "</table>\n",
       "</div>"
      ],
      "text/plain": [
       "              Null Values  Percentage\n",
       "ratings             22846   37.784467\n",
       "user_name           22846   37.784467\n",
       "date                22846   37.784467\n",
       "review              20263   33.512503\n",
       "image                 134    0.221619\n",
       "product_name            5    0.008269"
      ]
     },
     "execution_count": 18,
     "metadata": {},
     "output_type": "execute_result"
    }
   ],
   "source": [
    "# check null values in the cleaned dataset\n",
    "null_percentages(df_1)"
   ]
  },
  {
   "cell_type": "code",
   "execution_count": 19,
   "metadata": {},
   "outputs": [
    {
     "data": {
      "text/plain": [
       "0               NaN\n",
       "1        3 out of 5\n",
       "2        4 out of 5\n",
       "3               NaN\n",
       "4               NaN\n",
       "            ...    \n",
       "60459           NaN\n",
       "60460    4 out of 5\n",
       "60461           NaN\n",
       "60462    3 out of 5\n",
       "60463    5 out of 5\n",
       "Name: ratings, Length: 60464, dtype: object"
      ]
     },
     "execution_count": 19,
     "metadata": {},
     "output_type": "execute_result"
    }
   ],
   "source": [
    "# The ratings column contains string values (i.e. '3 out of 5')\n",
    "df_1['ratings']"
   ]
  },
  {
   "cell_type": "code",
   "execution_count": 20,
   "metadata": {},
   "outputs": [],
   "source": [
    "# Function to extract numeric rating from a string\n",
    "def extract_rating(rating):\n",
    "    match = re.search(r'\\d+', str(rating))  # Finding the first digit in the string\n",
    "    if match:\n",
    "        return float(match.group())  # Convert the first digit to float\n",
    "    return None  # Return None if no digit is found "
   ]
  },
  {
   "cell_type": "code",
   "execution_count": 21,
   "metadata": {},
   "outputs": [],
   "source": [
    "# Apply the function to the ratings column\n",
    "df_1['ratings'] = df_1['ratings'].apply(extract_rating)"
   ]
  },
  {
   "cell_type": "code",
   "execution_count": 22,
   "metadata": {},
   "outputs": [],
   "source": [
    "# Get the distribution of non-null ratings (Rather than filling in missing values with the majority class or a simple average, sample from the existing ratings in a way that maintains a balanced distribution.)\n",
    "ratings_dist = df_1['ratings'].value_counts(normalize=True)\n",
    "\n",
    "# Impute missing ratings by sampling from the existing distribution\n",
    "df_1['ratings'] = df_1['ratings'].apply(lambda x: np.random.choice(ratings_dist.index, p=ratings_dist.values) if pd.isnull(x) else x)\n"
   ]
  },
  {
   "cell_type": "code",
   "execution_count": 23,
   "metadata": {},
   "outputs": [],
   "source": [
    "# Fill missing ratings with the mode rating per product(different products have varying ratings, impute missing ratings by the most common rating (mode) for each product.)\n",
    "#df['ratings'] = df.groupby('product')['ratings'].transform(lambda x: x.fillna(x.mode()[0] if not x.mode().empty else 5))\n"
   ]
  },
  {
   "cell_type": "code",
   "execution_count": 24,
   "metadata": {},
   "outputs": [],
   "source": [
    "# Review: Impute with placeholder(to retain more data)\n",
    "df_1['review'].fillna('No Review', inplace=True)"
   ]
  },
  {
   "cell_type": "code",
   "execution_count": 25,
   "metadata": {},
   "outputs": [],
   "source": [
    "# User name: Impute with placeholder(to retain more data)\n",
    "df_1['user_name'].fillna('Anonymous', inplace=True)"
   ]
  },
  {
   "cell_type": "code",
   "execution_count": 26,
   "metadata": {},
   "outputs": [],
   "source": [
    "# Covert date to datetime\n",
    "df_1['date'] = pd.to_datetime(df_1['date'], errors='coerce')\n",
    "# Create separate columns for day, month, and year\n",
    "df_1['day'] = df_1['date'].dt.day\n",
    "df_1['month'] = df_1['date'].dt.month\n",
    "df_1['year'] = df_1['date'].dt.year"
   ]
  },
  {
   "cell_type": "code",
   "execution_count": 27,
   "metadata": {},
   "outputs": [],
   "source": [
    "# Drop date column as it is no longer necessary\n",
    "df_1.dropna(subset=['date'], inplace=True)"
   ]
  },
  {
   "cell_type": "code",
   "execution_count": 28,
   "metadata": {},
   "outputs": [],
   "source": [
    "# Date: Impute day with the 1st of the month\n",
    "df_1['day'].fillna(1, inplace=True)\n",
    "# Impute month with the most common month (mode)\n",
    "df_1['month'].fillna(df_1['month'].mode()[0], inplace=True)\n",
    "# Impute year with the most frequent year in the dataset\n",
    "df_1['year'].fillna(df_1['year'].mode()[0], inplace=True)"
   ]
  },
  {
   "cell_type": "code",
   "execution_count": 29,
   "metadata": {},
   "outputs": [],
   "source": [
    "# Image: Impute with placeholder (because image will be needed for deployment)\n",
    "df_1['image'].fillna('No Image Available', inplace=True)"
   ]
  },
  {
   "cell_type": "code",
   "execution_count": 30,
   "metadata": {},
   "outputs": [],
   "source": [
    "# Product name: Impute with placeholder (to retain more data)\n",
    "df_1['product_name'].fillna('Unknown Product', inplace=True)"
   ]
  },
  {
   "cell_type": "code",
   "execution_count": 31,
   "metadata": {},
   "outputs": [
    {
     "data": {
      "text/html": [
       "<div>\n",
       "<style scoped>\n",
       "    .dataframe tbody tr th:only-of-type {\n",
       "        vertical-align: middle;\n",
       "    }\n",
       "\n",
       "    .dataframe tbody tr th {\n",
       "        vertical-align: top;\n",
       "    }\n",
       "\n",
       "    .dataframe thead th {\n",
       "        text-align: right;\n",
       "    }\n",
       "</style>\n",
       "<table border=\"1\" class=\"dataframe\">\n",
       "  <thead>\n",
       "    <tr style=\"text-align: right;\">\n",
       "      <th></th>\n",
       "      <th>Null Values</th>\n",
       "      <th>Percentage</th>\n",
       "    </tr>\n",
       "  </thead>\n",
       "  <tbody>\n",
       "  </tbody>\n",
       "</table>\n",
       "</div>"
      ],
      "text/plain": [
       "Empty DataFrame\n",
       "Columns: [Null Values, Percentage]\n",
       "Index: []"
      ]
     },
     "execution_count": 31,
     "metadata": {},
     "output_type": "execute_result"
    }
   ],
   "source": [
    "# check null values in the cleaned dataset\n",
    "null_percentages(df_1)"
   ]
  },
  {
   "cell_type": "code",
   "execution_count": 32,
   "metadata": {},
   "outputs": [
    {
     "data": {
      "text/html": [
       "<div>\n",
       "<style scoped>\n",
       "    .dataframe tbody tr th:only-of-type {\n",
       "        vertical-align: middle;\n",
       "    }\n",
       "\n",
       "    .dataframe tbody tr th {\n",
       "        vertical-align: top;\n",
       "    }\n",
       "\n",
       "    .dataframe thead th {\n",
       "        text-align: right;\n",
       "    }\n",
       "</style>\n",
       "<table border=\"1\" class=\"dataframe\">\n",
       "  <thead>\n",
       "    <tr style=\"text-align: right;\">\n",
       "      <th></th>\n",
       "      <th>web-scraper-order</th>\n",
       "      <th>web-scraper-start-url</th>\n",
       "      <th>product</th>\n",
       "      <th>product-href</th>\n",
       "      <th>product_name</th>\n",
       "      <th>image</th>\n",
       "      <th>price</th>\n",
       "      <th>brand</th>\n",
       "      <th>link</th>\n",
       "      <th>link-href</th>\n",
       "      <th>...</th>\n",
       "      <th>see_all-href</th>\n",
       "      <th>review_title</th>\n",
       "      <th>review</th>\n",
       "      <th>ratings</th>\n",
       "      <th>user_name</th>\n",
       "      <th>date</th>\n",
       "      <th>Category</th>\n",
       "      <th>day</th>\n",
       "      <th>month</th>\n",
       "      <th>year</th>\n",
       "    </tr>\n",
       "  </thead>\n",
       "  <tbody>\n",
       "    <tr>\n",
       "      <th>1</th>\n",
       "      <td>1730407112-2</td>\n",
       "      <td>https://www.jumia.co.ke/computer-accessories/</td>\n",
       "      <td>Black Friday deal9\"-17\" Laptop Cooling Stand P...</td>\n",
       "      <td>https://www.jumia.co.ke/9-17-laptop-cooling-st...</td>\n",
       "      <td>9\"-17\" Laptop Cooling Stand Pad</td>\n",
       "      <td>https://ke.jumia.is/unsafe/fit-in/680x680/filt...</td>\n",
       "      <td>3325.0</td>\n",
       "      <td>Unknown</td>\n",
       "      <td>No Link</td>\n",
       "      <td>https://www.jumia.co.ke/computer-accessories/?...</td>\n",
       "      <td>...</td>\n",
       "      <td>https://www.jumia.co.ke/catalog/productratings...</td>\n",
       "      <td>OKAY</td>\n",
       "      <td>Working, feels cheap</td>\n",
       "      <td>3.0</td>\n",
       "      <td>by WILFRED</td>\n",
       "      <td>2022-04-28</td>\n",
       "      <td>Computing</td>\n",
       "      <td>28.0</td>\n",
       "      <td>4.0</td>\n",
       "      <td>2022.0</td>\n",
       "    </tr>\n",
       "    <tr>\n",
       "      <th>2</th>\n",
       "      <td>1730407112-3</td>\n",
       "      <td>https://www.jumia.co.ke/computer-accessories/</td>\n",
       "      <td>Black Friday deal9\"-17\" Laptop Cooling Stand P...</td>\n",
       "      <td>https://www.jumia.co.ke/9-17-laptop-cooling-st...</td>\n",
       "      <td>9\"-17\" Laptop Cooling Stand Pad</td>\n",
       "      <td>https://ke.jumia.is/unsafe/fit-in/680x680/filt...</td>\n",
       "      <td>3325.0</td>\n",
       "      <td>Unknown</td>\n",
       "      <td>No Link</td>\n",
       "      <td>https://www.jumia.co.ke/computer-accessories/?...</td>\n",
       "      <td>...</td>\n",
       "      <td>https://www.jumia.co.ke/catalog/productratings...</td>\n",
       "      <td>okay</td>\n",
       "      <td>A bit big for a regular laptop bag... The fanc...</td>\n",
       "      <td>4.0</td>\n",
       "      <td>by Michael</td>\n",
       "      <td>2021-07-08</td>\n",
       "      <td>Computing</td>\n",
       "      <td>8.0</td>\n",
       "      <td>7.0</td>\n",
       "      <td>2021.0</td>\n",
       "    </tr>\n",
       "    <tr>\n",
       "      <th>29</th>\n",
       "      <td>1730407173-30</td>\n",
       "      <td>https://www.jumia.co.ke/computer-accessories/</td>\n",
       "      <td>Black Friday dealToshiba High Speed Micro SD M...</td>\n",
       "      <td>https://www.jumia.co.ke/toshiba-high-speed-mic...</td>\n",
       "      <td>Toshiba High Speed Micro SD Memory Card</td>\n",
       "      <td>https://ke.jumia.is/unsafe/fit-in/680x680/filt...</td>\n",
       "      <td>803.0</td>\n",
       "      <td>Toshiba</td>\n",
       "      <td>No Link</td>\n",
       "      <td>https://www.jumia.co.ke/computer-accessories/?...</td>\n",
       "      <td>...</td>\n",
       "      <td>https://www.jumia.co.ke/catalog/productratings...</td>\n",
       "      <td>good</td>\n",
       "      <td>genuine</td>\n",
       "      <td>4.0</td>\n",
       "      <td>by your name</td>\n",
       "      <td>2021-11-29</td>\n",
       "      <td>Computing</td>\n",
       "      <td>29.0</td>\n",
       "      <td>11.0</td>\n",
       "      <td>2021.0</td>\n",
       "    </tr>\n",
       "    <tr>\n",
       "      <th>30</th>\n",
       "      <td>1730407177-31</td>\n",
       "      <td>https://www.jumia.co.ke/computer-accessories/</td>\n",
       "      <td>Black Friday dealLenovo Laptop Charger For Len...</td>\n",
       "      <td>https://www.jumia.co.ke/laptop-charger-for-len...</td>\n",
       "      <td>Lenovo Laptop Charger For Lenovo ThinkPad Yoga...</td>\n",
       "      <td>https://ke.jumia.is/unsafe/fit-in/680x680/filt...</td>\n",
       "      <td>4157.0</td>\n",
       "      <td>Lenovo</td>\n",
       "      <td>No Link</td>\n",
       "      <td>https://www.jumia.co.ke/computer-accessories/?...</td>\n",
       "      <td>...</td>\n",
       "      <td>https://www.jumia.co.ke/catalog/productratings...</td>\n",
       "      <td>I like it</td>\n",
       "      <td>It worked out well</td>\n",
       "      <td>1.0</td>\n",
       "      <td>by Bathsheba</td>\n",
       "      <td>2020-10-31</td>\n",
       "      <td>Computing</td>\n",
       "      <td>31.0</td>\n",
       "      <td>10.0</td>\n",
       "      <td>2020.0</td>\n",
       "    </tr>\n",
       "    <tr>\n",
       "      <th>37</th>\n",
       "      <td>1730407197-38</td>\n",
       "      <td>https://www.jumia.co.ke/computer-accessories/</td>\n",
       "      <td>Black Friday dealSafaricom, Airtel &amp; Telkom -4...</td>\n",
       "      <td>https://www.jumia.co.ke/safaricom-airtel-telko...</td>\n",
       "      <td>Safaricom, Airtel &amp; Telkom -4G/3G Universal Modem</td>\n",
       "      <td>https://ke.jumia.is/unsafe/fit-in/680x680/filt...</td>\n",
       "      <td>2600.0</td>\n",
       "      <td>Unknown</td>\n",
       "      <td>No Link</td>\n",
       "      <td>https://www.jumia.co.ke/computer-accessories/?...</td>\n",
       "      <td>...</td>\n",
       "      <td>https://www.jumia.co.ke/catalog/productratings...</td>\n",
       "      <td>Works well</td>\n",
       "      <td>So far so good...</td>\n",
       "      <td>5.0</td>\n",
       "      <td>by Ngarachu</td>\n",
       "      <td>2024-06-11</td>\n",
       "      <td>Computing</td>\n",
       "      <td>11.0</td>\n",
       "      <td>6.0</td>\n",
       "      <td>2024.0</td>\n",
       "    </tr>\n",
       "  </tbody>\n",
       "</table>\n",
       "<p>5 rows × 21 columns</p>\n",
       "</div>"
      ],
      "text/plain": [
       "   web-scraper-order                          web-scraper-start-url  \\\n",
       "1       1730407112-2  https://www.jumia.co.ke/computer-accessories/   \n",
       "2       1730407112-3  https://www.jumia.co.ke/computer-accessories/   \n",
       "29     1730407173-30  https://www.jumia.co.ke/computer-accessories/   \n",
       "30     1730407177-31  https://www.jumia.co.ke/computer-accessories/   \n",
       "37     1730407197-38  https://www.jumia.co.ke/computer-accessories/   \n",
       "\n",
       "                                              product  \\\n",
       "1   Black Friday deal9\"-17\" Laptop Cooling Stand P...   \n",
       "2   Black Friday deal9\"-17\" Laptop Cooling Stand P...   \n",
       "29  Black Friday dealToshiba High Speed Micro SD M...   \n",
       "30  Black Friday dealLenovo Laptop Charger For Len...   \n",
       "37  Black Friday dealSafaricom, Airtel & Telkom -4...   \n",
       "\n",
       "                                         product-href  \\\n",
       "1   https://www.jumia.co.ke/9-17-laptop-cooling-st...   \n",
       "2   https://www.jumia.co.ke/9-17-laptop-cooling-st...   \n",
       "29  https://www.jumia.co.ke/toshiba-high-speed-mic...   \n",
       "30  https://www.jumia.co.ke/laptop-charger-for-len...   \n",
       "37  https://www.jumia.co.ke/safaricom-airtel-telko...   \n",
       "\n",
       "                                         product_name  \\\n",
       "1                     9\"-17\" Laptop Cooling Stand Pad   \n",
       "2                     9\"-17\" Laptop Cooling Stand Pad   \n",
       "29            Toshiba High Speed Micro SD Memory Card   \n",
       "30  Lenovo Laptop Charger For Lenovo ThinkPad Yoga...   \n",
       "37  Safaricom, Airtel & Telkom -4G/3G Universal Modem   \n",
       "\n",
       "                                                image   price    brand  \\\n",
       "1   https://ke.jumia.is/unsafe/fit-in/680x680/filt...  3325.0  Unknown   \n",
       "2   https://ke.jumia.is/unsafe/fit-in/680x680/filt...  3325.0  Unknown   \n",
       "29  https://ke.jumia.is/unsafe/fit-in/680x680/filt...   803.0  Toshiba   \n",
       "30  https://ke.jumia.is/unsafe/fit-in/680x680/filt...  4157.0   Lenovo   \n",
       "37  https://ke.jumia.is/unsafe/fit-in/680x680/filt...  2600.0  Unknown   \n",
       "\n",
       "       link                                          link-href  ...  \\\n",
       "1   No Link  https://www.jumia.co.ke/computer-accessories/?...  ...   \n",
       "2   No Link  https://www.jumia.co.ke/computer-accessories/?...  ...   \n",
       "29  No Link  https://www.jumia.co.ke/computer-accessories/?...  ...   \n",
       "30  No Link  https://www.jumia.co.ke/computer-accessories/?...  ...   \n",
       "37  No Link  https://www.jumia.co.ke/computer-accessories/?...  ...   \n",
       "\n",
       "                                         see_all-href review_title  \\\n",
       "1   https://www.jumia.co.ke/catalog/productratings...         OKAY   \n",
       "2   https://www.jumia.co.ke/catalog/productratings...         okay   \n",
       "29  https://www.jumia.co.ke/catalog/productratings...         good   \n",
       "30  https://www.jumia.co.ke/catalog/productratings...    I like it   \n",
       "37  https://www.jumia.co.ke/catalog/productratings...   Works well   \n",
       "\n",
       "                                               review ratings     user_name  \\\n",
       "1                                Working, feels cheap     3.0    by WILFRED   \n",
       "2   A bit big for a regular laptop bag... The fanc...     4.0    by Michael   \n",
       "29                                            genuine     4.0  by your name   \n",
       "30                                 It worked out well     1.0  by Bathsheba   \n",
       "37                                  So far so good...     5.0   by Ngarachu   \n",
       "\n",
       "         date   Category   day  month    year  \n",
       "1  2022-04-28  Computing  28.0    4.0  2022.0  \n",
       "2  2021-07-08  Computing   8.0    7.0  2021.0  \n",
       "29 2021-11-29  Computing  29.0   11.0  2021.0  \n",
       "30 2020-10-31  Computing  31.0   10.0  2020.0  \n",
       "37 2024-06-11  Computing  11.0    6.0  2024.0  \n",
       "\n",
       "[5 rows x 21 columns]"
      ]
     },
     "execution_count": 32,
     "metadata": {},
     "output_type": "execute_result"
    }
   ],
   "source": [
    "df_1.head()"
   ]
  },
  {
   "cell_type": "code",
   "execution_count": 33,
   "metadata": {},
   "outputs": [
    {
     "data": {
      "text/plain": [
       "1           computer-accessories\n",
       "2           computer-accessories\n",
       "29          computer-accessories\n",
       "30          computer-accessories\n",
       "37          computer-accessories\n",
       "                  ...           \n",
       "60440    aromatherapy-fragrances\n",
       "60450    aromatherapy-fragrances\n",
       "60452    aromatherapy-fragrances\n",
       "60454    aromatherapy-fragrances\n",
       "60460    aromatherapy-fragrances\n",
       "Name: subcategory, Length: 31013, dtype: object"
      ]
     },
     "execution_count": 33,
     "metadata": {},
     "output_type": "execute_result"
    }
   ],
   "source": [
    "# Extract the sub-category from the URL and create a new column\n",
    "df_1['subcategory'] = df_1['web-scraper-start-url'].apply(lambda x: x.rstrip('/').split('/')[-1])\n",
    "df_1 ['subcategory']"
   ]
  },
  {
   "cell_type": "code",
   "execution_count": 34,
   "metadata": {},
   "outputs": [],
   "source": [
    "# Remove the \"by \" prefix from the start of each username\n",
    "df_1['user_name'] = df_1['user_name'].str.replace(r'^by\\s+', '', regex=True)"
   ]
  },
  {
   "cell_type": "code",
   "execution_count": 35,
   "metadata": {},
   "outputs": [
    {
     "name": "stdout",
     "output_type": "stream",
     "text": [
      "      overall_ratings  ratings_count\n",
      "0                 NaN            NaN\n",
      "1                 4.1            7.0\n",
      "2                 4.1            7.0\n",
      "3                 NaN            NaN\n",
      "4                 NaN            NaN\n",
      "...               ...            ...\n",
      "60459             NaN            NaN\n",
      "60460               4            5.0\n",
      "60461             NaN            NaN\n",
      "60462             3.5            8.0\n",
      "60463             3.5            8.0\n",
      "\n",
      "[60464 rows x 2 columns]\n"
     ]
    }
   ],
   "source": [
    "# Extract the overall ratings and ratings count\n",
    "df['overall_ratings'] = df['product'].str.extract(r'(\\d+(\\.\\d+)?) out of 5')[0]\n",
    "df['ratings_count'] = df['product'].str.extract(r'(\\d+) out of 5\\((\\d+)\\)')[1].astype(float)\n",
    "\n",
    "print(df[['overall_ratings', 'ratings_count']])"
   ]
  },
  {
   "cell_type": "code",
   "execution_count": 36,
   "metadata": {},
   "outputs": [
    {
     "data": {
      "text/html": [
       "<div>\n",
       "<style scoped>\n",
       "    .dataframe tbody tr th:only-of-type {\n",
       "        vertical-align: middle;\n",
       "    }\n",
       "\n",
       "    .dataframe tbody tr th {\n",
       "        vertical-align: top;\n",
       "    }\n",
       "\n",
       "    .dataframe thead th {\n",
       "        text-align: right;\n",
       "    }\n",
       "</style>\n",
       "<table border=\"1\" class=\"dataframe\">\n",
       "  <thead>\n",
       "    <tr style=\"text-align: right;\">\n",
       "      <th></th>\n",
       "      <th>web-scraper-order</th>\n",
       "      <th>web-scraper-start-url</th>\n",
       "      <th>product</th>\n",
       "      <th>product-href</th>\n",
       "      <th>product_name</th>\n",
       "      <th>image</th>\n",
       "      <th>price</th>\n",
       "      <th>brand</th>\n",
       "      <th>link</th>\n",
       "      <th>link-href</th>\n",
       "      <th>...</th>\n",
       "      <th>review_title</th>\n",
       "      <th>review</th>\n",
       "      <th>ratings</th>\n",
       "      <th>user_name</th>\n",
       "      <th>date</th>\n",
       "      <th>Category</th>\n",
       "      <th>day</th>\n",
       "      <th>month</th>\n",
       "      <th>year</th>\n",
       "      <th>subcategory</th>\n",
       "    </tr>\n",
       "  </thead>\n",
       "  <tbody>\n",
       "    <tr>\n",
       "      <th>1</th>\n",
       "      <td>1730407112-2</td>\n",
       "      <td>https://www.jumia.co.ke/computer-accessories/</td>\n",
       "      <td>Black Friday deal9\"-17\" Laptop Cooling Stand P...</td>\n",
       "      <td>https://www.jumia.co.ke/9-17-laptop-cooling-st...</td>\n",
       "      <td>9\"-17\" Laptop Cooling Stand Pad</td>\n",
       "      <td>https://ke.jumia.is/unsafe/fit-in/680x680/filt...</td>\n",
       "      <td>3325.0</td>\n",
       "      <td>Unknown</td>\n",
       "      <td>No Link</td>\n",
       "      <td>https://www.jumia.co.ke/computer-accessories/?...</td>\n",
       "      <td>...</td>\n",
       "      <td>OKAY</td>\n",
       "      <td>Working, feels cheap</td>\n",
       "      <td>3.0</td>\n",
       "      <td>WILFRED</td>\n",
       "      <td>2022-04-28</td>\n",
       "      <td>Computing</td>\n",
       "      <td>28.0</td>\n",
       "      <td>4.0</td>\n",
       "      <td>2022.0</td>\n",
       "      <td>computer-accessories</td>\n",
       "    </tr>\n",
       "    <tr>\n",
       "      <th>2</th>\n",
       "      <td>1730407112-3</td>\n",
       "      <td>https://www.jumia.co.ke/computer-accessories/</td>\n",
       "      <td>Black Friday deal9\"-17\" Laptop Cooling Stand P...</td>\n",
       "      <td>https://www.jumia.co.ke/9-17-laptop-cooling-st...</td>\n",
       "      <td>9\"-17\" Laptop Cooling Stand Pad</td>\n",
       "      <td>https://ke.jumia.is/unsafe/fit-in/680x680/filt...</td>\n",
       "      <td>3325.0</td>\n",
       "      <td>Unknown</td>\n",
       "      <td>No Link</td>\n",
       "      <td>https://www.jumia.co.ke/computer-accessories/?...</td>\n",
       "      <td>...</td>\n",
       "      <td>okay</td>\n",
       "      <td>A bit big for a regular laptop bag... The fanc...</td>\n",
       "      <td>4.0</td>\n",
       "      <td>Michael</td>\n",
       "      <td>2021-07-08</td>\n",
       "      <td>Computing</td>\n",
       "      <td>8.0</td>\n",
       "      <td>7.0</td>\n",
       "      <td>2021.0</td>\n",
       "      <td>computer-accessories</td>\n",
       "    </tr>\n",
       "    <tr>\n",
       "      <th>29</th>\n",
       "      <td>1730407173-30</td>\n",
       "      <td>https://www.jumia.co.ke/computer-accessories/</td>\n",
       "      <td>Black Friday dealToshiba High Speed Micro SD M...</td>\n",
       "      <td>https://www.jumia.co.ke/toshiba-high-speed-mic...</td>\n",
       "      <td>Toshiba High Speed Micro SD Memory Card</td>\n",
       "      <td>https://ke.jumia.is/unsafe/fit-in/680x680/filt...</td>\n",
       "      <td>803.0</td>\n",
       "      <td>Toshiba</td>\n",
       "      <td>No Link</td>\n",
       "      <td>https://www.jumia.co.ke/computer-accessories/?...</td>\n",
       "      <td>...</td>\n",
       "      <td>good</td>\n",
       "      <td>genuine</td>\n",
       "      <td>4.0</td>\n",
       "      <td>your name</td>\n",
       "      <td>2021-11-29</td>\n",
       "      <td>Computing</td>\n",
       "      <td>29.0</td>\n",
       "      <td>11.0</td>\n",
       "      <td>2021.0</td>\n",
       "      <td>computer-accessories</td>\n",
       "    </tr>\n",
       "    <tr>\n",
       "      <th>30</th>\n",
       "      <td>1730407177-31</td>\n",
       "      <td>https://www.jumia.co.ke/computer-accessories/</td>\n",
       "      <td>Black Friday dealLenovo Laptop Charger For Len...</td>\n",
       "      <td>https://www.jumia.co.ke/laptop-charger-for-len...</td>\n",
       "      <td>Lenovo Laptop Charger For Lenovo ThinkPad Yoga...</td>\n",
       "      <td>https://ke.jumia.is/unsafe/fit-in/680x680/filt...</td>\n",
       "      <td>4157.0</td>\n",
       "      <td>Lenovo</td>\n",
       "      <td>No Link</td>\n",
       "      <td>https://www.jumia.co.ke/computer-accessories/?...</td>\n",
       "      <td>...</td>\n",
       "      <td>I like it</td>\n",
       "      <td>It worked out well</td>\n",
       "      <td>1.0</td>\n",
       "      <td>Bathsheba</td>\n",
       "      <td>2020-10-31</td>\n",
       "      <td>Computing</td>\n",
       "      <td>31.0</td>\n",
       "      <td>10.0</td>\n",
       "      <td>2020.0</td>\n",
       "      <td>computer-accessories</td>\n",
       "    </tr>\n",
       "    <tr>\n",
       "      <th>37</th>\n",
       "      <td>1730407197-38</td>\n",
       "      <td>https://www.jumia.co.ke/computer-accessories/</td>\n",
       "      <td>Black Friday dealSafaricom, Airtel &amp; Telkom -4...</td>\n",
       "      <td>https://www.jumia.co.ke/safaricom-airtel-telko...</td>\n",
       "      <td>Safaricom, Airtel &amp; Telkom -4G/3G Universal Modem</td>\n",
       "      <td>https://ke.jumia.is/unsafe/fit-in/680x680/filt...</td>\n",
       "      <td>2600.0</td>\n",
       "      <td>Unknown</td>\n",
       "      <td>No Link</td>\n",
       "      <td>https://www.jumia.co.ke/computer-accessories/?...</td>\n",
       "      <td>...</td>\n",
       "      <td>Works well</td>\n",
       "      <td>So far so good...</td>\n",
       "      <td>5.0</td>\n",
       "      <td>Ngarachu</td>\n",
       "      <td>2024-06-11</td>\n",
       "      <td>Computing</td>\n",
       "      <td>11.0</td>\n",
       "      <td>6.0</td>\n",
       "      <td>2024.0</td>\n",
       "      <td>computer-accessories</td>\n",
       "    </tr>\n",
       "  </tbody>\n",
       "</table>\n",
       "<p>5 rows × 22 columns</p>\n",
       "</div>"
      ],
      "text/plain": [
       "   web-scraper-order                          web-scraper-start-url  \\\n",
       "1       1730407112-2  https://www.jumia.co.ke/computer-accessories/   \n",
       "2       1730407112-3  https://www.jumia.co.ke/computer-accessories/   \n",
       "29     1730407173-30  https://www.jumia.co.ke/computer-accessories/   \n",
       "30     1730407177-31  https://www.jumia.co.ke/computer-accessories/   \n",
       "37     1730407197-38  https://www.jumia.co.ke/computer-accessories/   \n",
       "\n",
       "                                              product  \\\n",
       "1   Black Friday deal9\"-17\" Laptop Cooling Stand P...   \n",
       "2   Black Friday deal9\"-17\" Laptop Cooling Stand P...   \n",
       "29  Black Friday dealToshiba High Speed Micro SD M...   \n",
       "30  Black Friday dealLenovo Laptop Charger For Len...   \n",
       "37  Black Friday dealSafaricom, Airtel & Telkom -4...   \n",
       "\n",
       "                                         product-href  \\\n",
       "1   https://www.jumia.co.ke/9-17-laptop-cooling-st...   \n",
       "2   https://www.jumia.co.ke/9-17-laptop-cooling-st...   \n",
       "29  https://www.jumia.co.ke/toshiba-high-speed-mic...   \n",
       "30  https://www.jumia.co.ke/laptop-charger-for-len...   \n",
       "37  https://www.jumia.co.ke/safaricom-airtel-telko...   \n",
       "\n",
       "                                         product_name  \\\n",
       "1                     9\"-17\" Laptop Cooling Stand Pad   \n",
       "2                     9\"-17\" Laptop Cooling Stand Pad   \n",
       "29            Toshiba High Speed Micro SD Memory Card   \n",
       "30  Lenovo Laptop Charger For Lenovo ThinkPad Yoga...   \n",
       "37  Safaricom, Airtel & Telkom -4G/3G Universal Modem   \n",
       "\n",
       "                                                image   price    brand  \\\n",
       "1   https://ke.jumia.is/unsafe/fit-in/680x680/filt...  3325.0  Unknown   \n",
       "2   https://ke.jumia.is/unsafe/fit-in/680x680/filt...  3325.0  Unknown   \n",
       "29  https://ke.jumia.is/unsafe/fit-in/680x680/filt...   803.0  Toshiba   \n",
       "30  https://ke.jumia.is/unsafe/fit-in/680x680/filt...  4157.0   Lenovo   \n",
       "37  https://ke.jumia.is/unsafe/fit-in/680x680/filt...  2600.0  Unknown   \n",
       "\n",
       "       link                                          link-href  ...  \\\n",
       "1   No Link  https://www.jumia.co.ke/computer-accessories/?...  ...   \n",
       "2   No Link  https://www.jumia.co.ke/computer-accessories/?...  ...   \n",
       "29  No Link  https://www.jumia.co.ke/computer-accessories/?...  ...   \n",
       "30  No Link  https://www.jumia.co.ke/computer-accessories/?...  ...   \n",
       "37  No Link  https://www.jumia.co.ke/computer-accessories/?...  ...   \n",
       "\n",
       "   review_title                                             review ratings  \\\n",
       "1          OKAY                               Working, feels cheap     3.0   \n",
       "2          okay  A bit big for a regular laptop bag... The fanc...     4.0   \n",
       "29         good                                            genuine     4.0   \n",
       "30    I like it                                 It worked out well     1.0   \n",
       "37   Works well                                  So far so good...     5.0   \n",
       "\n",
       "    user_name       date   Category   day month    year           subcategory  \n",
       "1     WILFRED 2022-04-28  Computing  28.0   4.0  2022.0  computer-accessories  \n",
       "2     Michael 2021-07-08  Computing   8.0   7.0  2021.0  computer-accessories  \n",
       "29  your name 2021-11-29  Computing  29.0  11.0  2021.0  computer-accessories  \n",
       "30  Bathsheba 2020-10-31  Computing  31.0  10.0  2020.0  computer-accessories  \n",
       "37   Ngarachu 2024-06-11  Computing  11.0   6.0  2024.0  computer-accessories  \n",
       "\n",
       "[5 rows x 22 columns]"
      ]
     },
     "execution_count": 36,
     "metadata": {},
     "output_type": "execute_result"
    }
   ],
   "source": [
    "df_1.head()"
   ]
  },
  {
   "cell_type": "code",
   "execution_count": 37,
   "metadata": {},
   "outputs": [
    {
     "data": {
      "text/plain": [
       "(31013, 22)"
      ]
     },
     "execution_count": 37,
     "metadata": {},
     "output_type": "execute_result"
    }
   ],
   "source": [
    "df_1.shape"
   ]
  },
  {
   "cell_type": "markdown",
   "metadata": {},
   "source": [
    "#### Exploratory Data Analysis"
   ]
  },
  {
   "cell_type": "code",
   "execution_count": 58,
   "metadata": {},
   "outputs": [
    {
     "data": {
      "image/png": "[encoded data removed]",
      "text/plain": [
       "<Figure size 640x480 with 1 Axes>"
      ]
     },
     "metadata": {},
     "output_type": "display_data"
    }
   ],
   "source": [
    "# Histogram for numerical columns\n",
    "df_1['price'].hist(bins=20)\n",
    "plt.title('Distribution of Price')\n",
    "plt.show()"
   ]
  },
  {
   "cell_type": "code",
   "execution_count": 60,
   "metadata": {},
   "outputs": [
    {
     "name": "stdout",
     "output_type": "stream",
     "text": [
      "Number of outliers: 5149\n",
      "                                            product_name     price\n",
      "42858  LG 75UP7760 75\" UHD 4K HDR WebOS Smart AI Thin...  186000.0\n",
      "50079  Ramtons RF/265 - 527L Side By Side LED Fridge ...  149300.0\n",
      "51057  Ramtons RW/153- 12KG Front Load Washing Machin...   93500.0\n",
      "50001  Samsung RT28K3082S8 Top Mount Freezer Refriger...   92999.0\n",
      "1998   HP Envy X360 15 11th Gen Core i7 16GB RAM 512G...   90000.0\n",
      "...                                                  ...       ...\n",
      "27195     Samsung GM-B311V Flip 2Inch Dual Sim 1.3MP-Red    4749.0\n",
      "27034                SIMI S502 - 5.\"  HD + 1GB And 16GB.    4749.0\n",
      "27027                SIMI S502 - 5.\"  HD + 1GB And 16GB.    4749.0\n",
      "27028                SIMI S502 - 5.\"  HD + 1GB And 16GB.    4749.0\n",
      "27035                SIMI S502 - 5.\"  HD + 1GB And 16GB.    4749.0\n",
      "\n",
      "[5149 rows x 2 columns]\n"
     ]
    }
   ],
   "source": [
    "# Since price is positively skewed, \n",
    "# Calculate IQR to detect outliers\n",
    "Q1 = df_1['price'].quantile(0.25)\n",
    "Q3 = df_1['price'].quantile(0.75)\n",
    "IQR = Q3 - Q1\n",
    "threshold = Q3 + 1.5 * IQR\n",
    "\n",
    "# Identify outliers\n",
    "outliers = df_1[df_1['price'] > threshold]\n",
    "print(\"Number of outliers:\", len(outliers))\n",
    "print(outliers[['product_name', 'price']].sort_values(by='price', ascending=False))"
   ]
  },
  {
   "cell_type": "code",
   "execution_count": null,
   "metadata": {},
   "outputs": [],
   "source": []
  },
  {
   "cell_type": "code",
   "execution_count": 59,
   "metadata": {},
   "outputs": [
    {
     "data": {
      "image/png": "[encoded data removed]",
      "text/plain": [
       "<Figure size 640x480 with 1 Axes>"
      ]
     },
     "metadata": {},
     "output_type": "display_data"
    }
   ],
   "source": [
    "# Bar plot for categorical data\n",
    "sns.countplot(data=df_1, x='Category')\n",
    "plt.title('Category Distribution')\n",
    "plt.xticks(rotation=45)\n",
    "plt.show()"
   ]
  },
  {
   "cell_type": "code",
   "execution_count": 38,
   "metadata": {},
   "outputs": [
    {
     "data": {
      "text/plain": [
       "subcategory\n",
       "mobile-phones               1336\n",
       "#catalog-listing            1126\n",
       "mobile-accessories           986\n",
       "?price=0-1000                838\n",
       "computer-accessories         803\n",
       "                            ... \n",
       "outdoor-decor                  1\n",
       "biography-autobiography        1\n",
       "education-learning-books       1\n",
       "skin-care-sets-kits            1\n",
       "kettles                        1\n",
       "Name: count, Length: 193, dtype: int64"
      ]
     },
     "execution_count": 38,
     "metadata": {},
     "output_type": "execute_result"
    }
   ],
   "source": [
    "# Analyze the distribution of items across different subcategories\n",
    "subcategory_counts = df_1['subcategory'].value_counts()\n",
    "subcategory_counts"
   ]
  },
  {
   "cell_type": "code",
   "execution_count": 40,
   "metadata": {},
   "outputs": [],
   "source": [
    "# Filtering subcategories with a higher count for easier analysis\n",
    "popular_subcategories = df_1['subcategory'].value_counts()[df_1['subcategory'].value_counts() > 100].index\n",
    "df_1_popular = df_1[df_1['subcategory'].isin(popular_subcategories)]"
   ]
  },
  {
   "cell_type": "code",
   "execution_count": 41,
   "metadata": {},
   "outputs": [],
   "source": [
    "# Group rare subcategories as \"Other\"\n",
    "df_1['subcategory'] = df_1['subcategory'].apply(lambda x: x if df_1['subcategory'].value_counts()[x] > 5 else 'Other')"
   ]
  },
  {
   "cell_type": "code",
   "execution_count": 43,
   "metadata": {},
   "outputs": [
    {
     "data": {
      "image/png": "[encoded data removed]",
      "text/plain": [
       "<Figure size 1000x800 with 1 Axes>"
      ]
     },
     "metadata": {},
     "output_type": "display_data"
    }
   ],
   "source": [
    "# Bar Plot for Subcategory Count to get a sense of distribution\n",
    "# Sort subcategories in descending order and select the top 20\n",
    "subcategory_counts = df_1['subcategory'].value_counts().head(20)\n",
    "\n",
    "plt.figure(figsize=(10, 8))\n",
    "sns.barplot(\n",
    "    y=subcategory_counts.index,\n",
    "    x=subcategory_counts.values,\n",
    "    palette=\"viridis\"\n",
    ")\n",
    "plt.xlabel(\"Count\")\n",
    "plt.ylabel(\"Subcategory\")\n",
    "plt.title(\"Top 20 Subcategories by Number of Items\")\n",
    "\n",
    "# Adding value annotations\n",
    "for index, value in enumerate(subcategory_counts.values):\n",
    "    plt.text(value, index, str(value), va='center')  # Adding values next to bars\n",
    "\n",
    "plt.tight_layout()\n",
    "plt.show()"
   ]
  },
  {
   "cell_type": "code",
   "execution_count": 44,
   "metadata": {},
   "outputs": [
    {
     "name": "stdout",
     "output_type": "stream",
     "text": [
      "                                           ratings        price\n",
      "subcategory                                                    \n",
      "sports-endurance-energy-supplements       4.857143  2432.142857\n",
      "sports-endurance-energy-endurance-energy  4.857143  2432.142857\n",
      "christian-books-bibles                    4.722222  1446.722222\n",
      "skin-care-lotions                         4.720430   864.134409\n",
      "hair-shampoos-d                           4.690476  1044.071429\n",
      "...                                            ...          ...\n",
      "internal-phone-batteries                  3.325758  2025.590909\n",
      "womens-skirts                             3.323529   622.367647\n",
      "mens-hair-loss-treatments-d               3.285714  1198.959184\n",
      "automobile-lights-lighting-accessories    3.238095  1205.452381\n",
      "sports-nutrition-weight-gainers           3.100000  1804.400000\n",
      "\n",
      "[177 rows x 2 columns]\n"
     ]
    }
   ],
   "source": [
    "# average ratings and prices for each subcategory\n",
    "subcategory_stats = df_1.groupby('subcategory').agg({\n",
    "    'ratings': 'mean',\n",
    "    'price': 'mean'\n",
    "}).sort_values(by='ratings', ascending=False)\n",
    "print(subcategory_stats)"
   ]
  },
  {
   "cell_type": "code",
   "execution_count": null,
   "metadata": {},
   "outputs": [],
   "source": [
    "# Initialize encoder\n",
    "encoder = OneHotEncoder(sparse_output=True)\n",
    "\n",
    "# Apply encoding only to categorical columns\n",
    "encoded_columns = encoder.fit_transform(df_1[['Category', 'brand']])\n",
    "\n",
    "# Convert the result to a DataFrame and concatenate with the original DataFrame\n",
    "encoded_df = pd.DataFrame.sparse.from_spmatrix(encoded_columns, columns=encoder.get_feature_names_out(['Category', 'brand']))\n",
    "df_1 = pd.concat([df_1, encoded_df], axis=1).drop(columns=['Category', 'brand'])"
   ]
  }
 ],
 "metadata": {
  "kernelspec": {
   "display_name": "Python (learn-env)",
   "language": "python",
   "name": "learn-env"
  },
  "language_info": {
   "codemirror_mode": {
    "name": "ipython",
    "version": 3
   },
   "file_extension": ".py",
   "mimetype": "text/x-python",
   "name": "python",
   "nbconvert_exporter": "python",
   "pygments_lexer": "ipython3",
   "version": "3.11.7"
  }
 },
 "nbformat": 4,
 "nbformat_minor": 2
}
